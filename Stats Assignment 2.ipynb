{
 "cells": [
  {
   "cell_type": "code",
   "execution_count": 6,
   "metadata": {},
   "outputs": [],
   "source": [
    "\n",
    "import numpy as np\n",
    "import scipy.stats as st\n",
    "import matplotlib.pyplot as plt\n",
    "import seaborn as sns\n",
    "import pandas as pd"
   ]
  },
  {
   "cell_type": "raw",
   "metadata": {},
   "source": [
    "Problem Statement 1:\n",
    "\n",
    "In each of the following situations, state whether it is a correctly stated hypothesis\n",
    "testing problem and why?\n",
    "1. H0: μ = 25, H1: μ ≠ 25\n",
    "2. H0: σ > 10, H1: σ = 10\n",
    "3. H0: x = 50, H1: x ≠ 50\n",
    "4. H0: p = 0.1, H1: p = 0.5\n",
    "5. H0: s = 30, H1: s > 30"
   ]
  },
  {
   "cell_type": "raw",
   "metadata": {},
   "source": [
    "1. H0: μ = 25, H1: μ ≠ 25--->correct hypothesis,its two tailed test \n",
    "2. H0: σ > 10, H1: σ = 10--->incorrect hypothesis,here should be h0=1\n",
    "3. H0: x = 50, H1: x ≠ 50--->correct hypothesis\n",
    "4. H0: p = 0.1, H1: p = 0.5--->incorrect hypothesis, here h1 should be !=0.5\n",
    "5. H0: s = 30, H1: s > 30---->correct hypothesis"
   ]
  },
  {
   "cell_type": "code",
   "execution_count": 16,
   "metadata": {},
   "outputs": [],
   "source": [
    "def z_test(sample_size,pop_size,se):\n",
    "    return (sample_size-pop_size)/se\n",
    "def t_test(sample_size,pop_size,se):\n",
    "     return (sample_size-pop_size)/se\n",
    "\n",
    "def sample_error(std,n):\n",
    "    return std/(np.sqrt(n))\n",
    "    "
   ]
  },
  {
   "cell_type": "raw",
   "metadata": {},
   "source": [
    "Problem Statement 2:\n",
    "The college bookstore tells prospective students that the average cost of its\n",
    "textbooks is Rs. 52 with a standard deviation of Rs. 4.50. A group of smart statistics\n",
    "students thinks that the average cost is higher. To test the bookstore’s claim against\n",
    "their alternative, the students will select a random sample of size 100. Assume that\n",
    "the mean from their random sample is Rs. 52.80. Perform a hypothesis test at the\n",
    "5% level of significance and state your decision."
   ]
  },
  {
   "cell_type": "code",
   "execution_count": 8,
   "metadata": {},
   "outputs": [
    {
     "name": "stdout",
     "output_type": "stream",
     "text": [
      "accepted\n"
     ]
    }
   ],
   "source": [
    "pop_mean=52\n",
    "pop_std=4.50\n",
    "alpha=0.05\n",
    "sample_size=100\n",
    "sample_mean=52.80\n",
    "\n",
    "#ho:avg=52Rs\n",
    "#h1:avg != 52Rs\n",
    "\n",
    "se=sample_error(pop_std,sample_size)\n",
    "z=z_test(sample_mean,pop_mean,se)\n",
    "p=st.norm.cdf(z)\n",
    "\n",
    "if p<alpha:\n",
    "    print('Rejected')\n",
    "else:\n",
    "    print('accepted')\n",
    "\n",
    "\n",
    "\n",
    "\n"
   ]
  },
  {
   "cell_type": "raw",
   "metadata": {},
   "source": [
    "Problem Statement 3:\n",
    "A certain chemical pollutant in the Genesee River has been constant for several\n",
    "years with mean μ = 34 ppm (parts per million) and standard deviation σ = 8 ppm. A\n",
    "group of factory representatives whose companies discharge liquids into the river is\n",
    "now claiming that they have lowered the average with improved filtration devices. A\n",
    "group of environmentalists will test to see if this is true at the 1% level of\n",
    "significance. Assume \\ that their sample of size 50 gives a mean of 32.5 ppm.\n",
    "Perform a hypothesis test at the 1% level of significance and state your decision."
   ]
  },
  {
   "cell_type": "code",
   "execution_count": 9,
   "metadata": {},
   "outputs": [
    {
     "name": "stdout",
     "output_type": "stream",
     "text": [
      "Accept H0\n"
     ]
    }
   ],
   "source": [
    "#sample size>30 ,we use z stat\n",
    "pop_mean=34\n",
    "pop_std=8\n",
    "alpha=0.01\n",
    "sample_size=50\n",
    "sample_mean=32.5\n",
    "se=sample_error(pop_std,sample_size)\n",
    "z=z_test(sample_mean,pop_mean,se)\n",
    "p=st.norm.cdf(z)\n",
    "\n",
    "if p<alpha:\n",
    "    print('Reject H0')\n",
    "else:\n",
    "    print('Accept H0')\n",
    "\n",
    "#h0=34\n",
    "#h1!=34\n",
    "\n",
    "\n",
    "\n",
    "\n",
    "\n"
   ]
  },
  {
   "cell_type": "raw",
   "metadata": {},
   "source": [
    "    Problem Statement 4: Based on population figures and other general information on the U.S. population, suppose it has been estimated that, on average, a family of four in the U.S. spends about $1135 annually on dental expenditures. Suppose further that a regional dental association wants to test to determine if this figure is accurate for their area of country. To test this, 22 families of 4 are randomly selected from the population in that area of the country and a log is kept of the family’s dental expenditure for one year. The resulting data are given below. Assuming, that dental expenditure is normally distributed in the population, use the data and an alpha of 0.5 to test the dental association’s hypothesis. 1008, 812, 1117, 1323, 1308, 1415, 831, 1021, 1287, 851, 930, 730, 699, 872, 913, 944, 954, 987, 1695, 995, 1003, 994\n",
    "\n",
    "Null Hypothesis : H0: mean=$1135(on average,a family of four in the U.S.spends about $1135 annually on dental expenditures) Alternative Hypothesis : H1:mean!=$1135(Two tailed test)"
   ]
  },
  {
   "cell_type": "code",
   "execution_count": 10,
   "metadata": {},
   "outputs": [
    {
     "name": "stdout",
     "output_type": "stream",
     "text": [
      "rejected h0\n"
     ]
    }
   ],
   "source": [
    "#sample_size<30,population variance is not given and data is normally distributed -->t-test\n",
    "sample_data=[1008, 812, 1117, 1323, 1308, 1415, 831, 1021, 1287, 851, 930, 730, 699, 872, 913, 944, 954, 987, 1695, 995, 1003, 994]\n",
    "\n",
    "pop_mean=1135\n",
    "sample_mean=np.mean([1008, 812, 1117, 1323, 1308, 1415, 831, 1021, 1287, 851, 930, 730, 699, 872, 913, 944, 954, 987, 1695, 995, 1003, 994])\n",
    "sample_std=np.std([1008, 812, 1117, 1323, 1308, 1415, 831, 1021, 1287, 851, 930, 730, 699, 872, 913, 944, 954, 987, 1695, 995, 1003, 994])\n",
    "alpha=0.5\n",
    "sample_error=sample_error(sample_std,len(sample_data))\n",
    "t=t_test(sample_mean,pop_mean,sample_error)\n",
    "p=st.t.cdf(t,df=21)\n",
    "\n",
    "if p<alpha:\n",
    "    print('rejected h0')\n",
    "else:\n",
    "    print('accepted h0')\n",
    "\n",
    "\n",
    "\n",
    "\n",
    "\n"
   ]
  },
  {
   "cell_type": "raw",
   "metadata": {},
   "source": [
    "Problem Statement 5: In a report prepared by the Economic Research Department of a major bank the Department manager maintains that the average annual family income on Metropolis is $48,432. What do you conclude about the validity of the report if a random sample of 400 families shows and average income of $48,574 with a standard deviation of 2000?\n",
    "\n",
    "Null Hypothesis H0 : Average Family Income on Metropolis is $48,432(𝜇=48,432) \n",
    "Alternative Hypothesis H1 : 𝜇!=48432(Two-Tailed test)"
   ]
  },
  {
   "cell_type": "code",
   "execution_count": 17,
   "metadata": {},
   "outputs": [
    {
     "name": "stdout",
     "output_type": "stream",
     "text": [
      "accepted h0\n"
     ]
    }
   ],
   "source": [
    "#sample size>30, normality is not given -->z-test\n",
    "pop_mean=48432\n",
    "sample_mean=48574\n",
    "sample_size=400\n",
    "std=2000\n",
    "\n",
    "sample_error=2000/np.sqrt(400)\n",
    "\n",
    "\n",
    "z=z_test(sample_mean,pop_mean,sample_error)\n",
    "p=st.norm.cdf(z)\n",
    "alpha=0.05\n",
    "\n",
    "\n",
    "\n",
    "if p<alpha:\n",
    "    print('rejected h0')\n",
    "else:\n",
    "    print('accepted h0')\n",
    "\n",
    "\n",
    "\n"
   ]
  },
  {
   "cell_type": "raw",
   "metadata": {},
   "source": [
    "Problem Statement 6: Suppose that in past years the average price per square foot for warehouses in the United States has been $32.28. A national real estate investor wants to determine whether that figure has changed now. The investor hires a researcher who randomly samples 19 warehouses that are for sale across the United States and finds that the mean price per square foot is $31.67, with a standard deviation of $1.29. assume that the prices of warehouse footage are normally distributed in population. If the researcher uses a 5% level of significance, what statistical conclusion can be reached? What are the hypotheses?Null Hypothesis"
   ]
  },
  {
   "cell_type": "code",
   "execution_count": 18,
   "metadata": {},
   "outputs": [
    {
     "name": "stdout",
     "output_type": "stream",
     "text": [
      "rejected h0\n"
     ]
    }
   ],
   "source": [
    "#sample_size<30, normaly distributed , pop variance not given-->t-test\n",
    "pop_mean=32.28\n",
    "samp_mean=31.67\n",
    "samp_size=19\n",
    "samp_std=1.29\n",
    "alpha=0.05\n",
    "\n",
    "#ho:mean=32.28\n",
    "#h1:mean !=31.67\n",
    "\n",
    "se=samp_std/np.sqrt(19)\n",
    "t=t_test(samp_mean,pop_mean,se)\n",
    "p=st.t.cdf(t,df=18)\n",
    "\n",
    "\n",
    "\n",
    "if p<alpha:\n",
    "    print('rejected h0')\n",
    "else:\n",
    "    print('accepted h0')\n",
    "\n",
    "\n",
    "\n",
    "\n",
    "\n",
    "\n"
   ]
  },
  {
   "cell_type": "raw",
   "metadata": {},
   "source": [
    "Problem Statement 7 Fill in the blank spaces in the table and draw your conclusions from it. In the question values of alpha and standard deviation are not given, so it is not possible to find the value of beta.Problem Statement 8: Find the t-score for a sample size of 16 taken from a population with mean 10 when the sample mean is 12 and the sample standard deviation is 1.5."
   ]
  },
  {
   "cell_type": "code",
   "execution_count": 24,
   "metadata": {},
   "outputs": [
    {
     "name": "stdout",
     "output_type": "stream",
     "text": [
      "t score: 5.333333333333333\n"
     ]
    }
   ],
   "source": [
    "samp_size=16\n",
    "pop_mean=10\n",
    "samp_mean=12\n",
    "samp_std=1.5\n",
    "\n",
    "se=samp_std/np.sqrt(samp_size)\n",
    "t=t_test(samp_mean,pop_mean,se)\n",
    "print('t score: {}'.format(t))"
   ]
  },
  {
   "cell_type": "raw",
   "metadata": {},
   "source": [
    "Problem Statement 9: Find the t-score below which we can expect 99% of sample means will fall if samples of size 16 are taken from a normally distributed population."
   ]
  },
  {
   "cell_type": "code",
   "execution_count": 27,
   "metadata": {},
   "outputs": [
    {
     "data": {
      "text/plain": [
       "2.602480294995493"
      ]
     },
     "execution_count": 27,
     "metadata": {},
     "output_type": "execute_result"
    }
   ],
   "source": [
    "samp_size=16\n",
    "st.t.ppf(0.99,15)"
   ]
  },
  {
   "cell_type": "raw",
   "metadata": {},
   "source": [
    "Problem Statement 10: If a random sample of size 25 drawn from a normal population gives a mean of 60 and a standard deviation of 4, find the range of t-scores where we can expect to find the middle 95% of all sample means. Compute the probability that (−𝑡0.05"
   ]
  },
  {
   "cell_type": "code",
   "execution_count": null,
   "metadata": {},
   "outputs": [],
   "source": [
    "samp_size=25\n",
    "mean=60\n",
    "std=4\n",
    "alpha=0."
   ]
  },
  {
   "cell_type": "code",
   "execution_count": null,
   "metadata": {},
   "outputs": [],
   "source": []
  },
  {
   "cell_type": "code",
   "execution_count": null,
   "metadata": {},
   "outputs": [],
   "source": []
  },
  {
   "cell_type": "code",
   "execution_count": null,
   "metadata": {},
   "outputs": [],
   "source": []
  },
  {
   "cell_type": "code",
   "execution_count": null,
   "metadata": {},
   "outputs": [],
   "source": []
  },
  {
   "cell_type": "code",
   "execution_count": null,
   "metadata": {},
   "outputs": [],
   "source": []
  },
  {
   "cell_type": "code",
   "execution_count": null,
   "metadata": {},
   "outputs": [],
   "source": []
  },
  {
   "cell_type": "code",
   "execution_count": null,
   "metadata": {},
   "outputs": [],
   "source": []
  },
  {
   "cell_type": "code",
   "execution_count": null,
   "metadata": {},
   "outputs": [],
   "source": []
  },
  {
   "cell_type": "code",
   "execution_count": null,
   "metadata": {},
   "outputs": [],
   "source": []
  },
  {
   "cell_type": "code",
   "execution_count": null,
   "metadata": {},
   "outputs": [],
   "source": []
  },
  {
   "cell_type": "code",
   "execution_count": null,
   "metadata": {},
   "outputs": [],
   "source": []
  },
  {
   "cell_type": "code",
   "execution_count": null,
   "metadata": {},
   "outputs": [],
   "source": []
  },
  {
   "cell_type": "code",
   "execution_count": null,
   "metadata": {},
   "outputs": [],
   "source": []
  },
  {
   "cell_type": "code",
   "execution_count": null,
   "metadata": {},
   "outputs": [],
   "source": []
  },
  {
   "cell_type": "code",
   "execution_count": null,
   "metadata": {},
   "outputs": [],
   "source": []
  },
  {
   "cell_type": "code",
   "execution_count": null,
   "metadata": {},
   "outputs": [],
   "source": []
  },
  {
   "cell_type": "code",
   "execution_count": null,
   "metadata": {},
   "outputs": [],
   "source": []
  },
  {
   "cell_type": "code",
   "execution_count": null,
   "metadata": {},
   "outputs": [],
   "source": []
  },
  {
   "cell_type": "code",
   "execution_count": null,
   "metadata": {},
   "outputs": [],
   "source": []
  },
  {
   "cell_type": "code",
   "execution_count": null,
   "metadata": {},
   "outputs": [],
   "source": []
  }
 ],
 "metadata": {
  "kernelspec": {
   "display_name": "Python 3",
   "language": "python",
   "name": "python3"
  },
  "language_info": {
   "codemirror_mode": {
    "name": "ipython",
    "version": 3
   },
   "file_extension": ".py",
   "mimetype": "text/x-python",
   "name": "python",
   "nbconvert_exporter": "python",
   "pygments_lexer": "ipython3",
   "version": "3.8.5"
  }
 },
 "nbformat": 4,
 "nbformat_minor": 4
}
