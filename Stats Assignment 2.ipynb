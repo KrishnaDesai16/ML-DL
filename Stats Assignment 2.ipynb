{
 "cells": [
  {
   "cell_type": "code",
   "execution_count": 1,
   "metadata": {},
   "outputs": [],
   "source": [
    "\n",
    "import numpy as np\n",
    "import scipy.stats as st\n",
    "import matplotlib.pyplot as plt\n",
    "import seaborn as sns\n",
    "import pandas as pd"
   ]
  },
  {
   "cell_type": "raw",
   "metadata": {},
   "source": [
    "Problem Statement 1:\n",
    "\n",
    "In each of the following situations, state whether it is a correctly stated hypothesis\n",
    "testing problem and why?\n",
    "1. H0: μ = 25, H1: μ ≠ 25\n",
    "2. H0: σ > 10, H1: σ = 10\n",
    "3. H0: x = 50, H1: x ≠ 50\n",
    "4. H0: p = 0.1, H1: p = 0.5\n",
    "5. H0: s = 30, H1: s > 30"
   ]
  },
  {
   "cell_type": "raw",
   "metadata": {},
   "source": [
    "1. H0: μ = 25, H1: μ ≠ 25--->correct hypothesis,its two tailed test \n",
    "2. H0: σ > 10, H1: σ = 10--->incorrect hypothesis,here should be h0=1\n",
    "3. H0: x = 50, H1: x ≠ 50--->correct hypothesis\n",
    "4. H0: p = 0.1, H1: p = 0.5--->incorrect hypothesis, here h1 should be !=0.5\n",
    "5. H0: s = 30, H1: s > 30---->correct hypothesis"
   ]
  },
  {
   "cell_type": "code",
   "execution_count": 2,
   "metadata": {},
   "outputs": [],
   "source": [
    "def z_test(sample_size,pop_size,se):\n",
    "    return (sample_size-pop_size)/se\n",
    "def t_test(sample_size,pop_size,se):\n",
    "     return (sample_size-pop_size)/se\n",
    "\n",
    "def sample_error(std,n):\n",
    "    return std/(np.sqrt(n))\n",
    "    "
   ]
  },
  {
   "cell_type": "raw",
   "metadata": {},
   "source": [
    "Problem Statement 2:\n",
    "The college bookstore tells prospective students that the average cost of its\n",
    "textbooks is Rs. 52 with a standard deviation of Rs. 4.50. A group of smart statistics\n",
    "students thinks that the average cost is higher. To test the bookstore’s claim against\n",
    "their alternative, the students will select a random sample of size 100. Assume that\n",
    "the mean from their random sample is Rs. 52.80. Perform a hypothesis test at the\n",
    "5% level of significance and state your decision."
   ]
  },
  {
   "cell_type": "code",
   "execution_count": 8,
   "metadata": {},
   "outputs": [
    {
     "name": "stdout",
     "output_type": "stream",
     "text": [
      "accepted\n"
     ]
    }
   ],
   "source": [
    "pop_mean=52\n",
    "pop_std=4.50\n",
    "alpha=0.05\n",
    "sample_size=100\n",
    "sample_mean=52.80\n",
    "\n",
    "#ho:avg=52Rs\n",
    "#h1:avg != 52Rs\n",
    "\n",
    "se=sample_error(pop_std,sample_size)\n",
    "z=z_test(sample_mean,pop_mean,se)\n",
    "p=st.norm.cdf(z)\n",
    "\n",
    "if p<alpha:\n",
    "    print('Rejected')\n",
    "else:\n",
    "    print('accepted')\n",
    "\n",
    "\n",
    "\n",
    "\n"
   ]
  },
  {
   "cell_type": "raw",
   "metadata": {},
   "source": [
    "Problem Statement 3:\n",
    "A certain chemical pollutant in the Genesee River has been constant for several\n",
    "years with mean μ = 34 ppm (parts per million) and standard deviation σ = 8 ppm. A\n",
    "group of factory representatives whose companies discharge liquids into the river is\n",
    "now claiming that they have lowered the average with improved filtration devices. A\n",
    "group of environmentalists will test to see if this is true at the 1% level of\n",
    "significance. Assume \\ that their sample of size 50 gives a mean of 32.5 ppm.\n",
    "Perform a hypothesis test at the 1% level of significance and state your decision."
   ]
  },
  {
   "cell_type": "code",
   "execution_count": 9,
   "metadata": {},
   "outputs": [
    {
     "name": "stdout",
     "output_type": "stream",
     "text": [
      "Accept H0\n"
     ]
    }
   ],
   "source": [
    "#sample size>30 ,we use z stat\n",
    "pop_mean=34\n",
    "pop_std=8\n",
    "alpha=0.01\n",
    "sample_size=50\n",
    "sample_mean=32.5\n",
    "se=sample_error(pop_std,sample_size)\n",
    "z=z_test(sample_mean,pop_mean,se)\n",
    "p=st.norm.cdf(z)\n",
    "\n",
    "if p<alpha:\n",
    "    print('Reject H0')\n",
    "else:\n",
    "    print('Accept H0')\n",
    "\n",
    "#h0=34\n",
    "#h1!=34\n",
    "\n",
    "\n",
    "\n",
    "\n",
    "\n"
   ]
  },
  {
   "cell_type": "raw",
   "metadata": {},
   "source": [
    "    Problem Statement 4: Based on population figures and other general information on the U.S. population, suppose it has been estimated that, on average, a family of four in the U.S. spends about $1135 annually on dental expenditures. Suppose further that a regional dental association wants to test to determine if this figure is accurate for their area of country. To test this, 22 families of 4 are randomly selected from the population in that area of the country and a log is kept of the family’s dental expenditure for one year. The resulting data are given below. Assuming, that dental expenditure is normally distributed in the population, use the data and an alpha of 0.5 to test the dental association’s hypothesis. 1008, 812, 1117, 1323, 1308, 1415, 831, 1021, 1287, 851, 930, 730, 699, 872, 913, 944, 954, 987, 1695, 995, 1003, 994\n",
    "\n",
    "Null Hypothesis : H0: mean=$1135(on average,a family of four in the U.S.spends about $1135 annually on dental expenditures) Alternative Hypothesis : H1:mean!=$1135(Two tailed test)"
   ]
  },
  {
   "cell_type": "code",
   "execution_count": 10,
   "metadata": {},
   "outputs": [
    {
     "name": "stdout",
     "output_type": "stream",
     "text": [
      "rejected h0\n"
     ]
    }
   ],
   "source": [
    "#sample_size<30,population variance is not given and data is normally distributed -->t-test\n",
    "sample_data=[1008, 812, 1117, 1323, 1308, 1415, 831, 1021, 1287, 851, 930, 730, 699, 872, 913, 944, 954, 987, 1695, 995, 1003, 994]\n",
    "\n",
    "pop_mean=1135\n",
    "sample_mean=np.mean([1008, 812, 1117, 1323, 1308, 1415, 831, 1021, 1287, 851, 930, 730, 699, 872, 913, 944, 954, 987, 1695, 995, 1003, 994])\n",
    "sample_std=np.std([1008, 812, 1117, 1323, 1308, 1415, 831, 1021, 1287, 851, 930, 730, 699, 872, 913, 944, 954, 987, 1695, 995, 1003, 994])\n",
    "alpha=0.5\n",
    "sample_error=sample_error(sample_std,len(sample_data))\n",
    "t=t_test(sample_mean,pop_mean,sample_error)\n",
    "p=st.t.cdf(t,df=21)\n",
    "\n",
    "if p<alpha:\n",
    "    print('rejected h0')\n",
    "else:\n",
    "    print('accepted h0')\n",
    "\n",
    "\n",
    "\n",
    "\n",
    "\n"
   ]
  },
  {
   "cell_type": "raw",
   "metadata": {},
   "source": [
    "Problem Statement 5: In a report prepared by the Economic Research Department of a major bank the Department manager maintains that the average annual family income on Metropolis is $48,432. What do you conclude about the validity of the report if a random sample of 400 families shows and average income of $48,574 with a standard deviation of 2000?\n",
    "\n",
    "Null Hypothesis H0 : Average Family Income on Metropolis is $48,432(𝜇=48,432) \n",
    "Alternative Hypothesis H1 : 𝜇!=48432(Two-Tailed test)"
   ]
  },
  {
   "cell_type": "code",
   "execution_count": 17,
   "metadata": {},
   "outputs": [
    {
     "name": "stdout",
     "output_type": "stream",
     "text": [
      "accepted h0\n"
     ]
    }
   ],
   "source": [
    "#sample size>30, normality is not given -->z-test\n",
    "pop_mean=48432\n",
    "sample_mean=48574\n",
    "sample_size=400\n",
    "std=2000\n",
    "\n",
    "sample_error=2000/np.sqrt(400)\n",
    "\n",
    "\n",
    "z=z_test(sample_mean,pop_mean,sample_error)\n",
    "p=st.norm.cdf(z)\n",
    "alpha=0.05\n",
    "\n",
    "\n",
    "\n",
    "if p<alpha:\n",
    "    print('rejected h0')\n",
    "else:\n",
    "    print('accepted h0')\n",
    "\n",
    "\n",
    "\n"
   ]
  },
  {
   "cell_type": "raw",
   "metadata": {},
   "source": [
    "Problem Statement 6: Suppose that in past years the average price per square foot for warehouses in the United States has been $32.28. A national real estate investor wants to determine whether that figure has changed now. The investor hires a researcher who randomly samples 19 warehouses that are for sale across the United States and finds that the mean price per square foot is $31.67, with a standard deviation of $1.29. assume that the prices of warehouse footage are normally distributed in population. If the researcher uses a 5% level of significance, what statistical conclusion can be reached? What are the hypotheses?Null Hypothesis"
   ]
  },
  {
   "cell_type": "code",
   "execution_count": 18,
   "metadata": {},
   "outputs": [
    {
     "name": "stdout",
     "output_type": "stream",
     "text": [
      "rejected h0\n"
     ]
    }
   ],
   "source": [
    "#sample_size<30, normaly distributed , pop variance not given-->t-test\n",
    "pop_mean=32.28\n",
    "samp_mean=31.67\n",
    "samp_size=19\n",
    "samp_std=1.29\n",
    "alpha=0.05\n",
    "\n",
    "#ho:mean=32.28\n",
    "#h1:mean !=31.67\n",
    "\n",
    "se=samp_std/np.sqrt(19)\n",
    "t=t_test(samp_mean,pop_mean,se)\n",
    "p=st.t.cdf(t,df=18)\n",
    "\n",
    "\n",
    "\n",
    "if p<alpha:\n",
    "    print('rejected h0')\n",
    "else:\n",
    "    print('accepted h0')\n",
    "\n",
    "\n",
    "\n",
    "\n",
    "\n",
    "\n"
   ]
  },
  {
   "cell_type": "raw",
   "metadata": {},
   "source": [
    "Problem Statement 7 Fill in the blank spaces in the table and draw your conclusions from it. In the question values of alpha and standard deviation are not given, so it is not possible to find the value of beta.Problem Statement 8: Find the t-score for a sample size of 16 taken from a population with mean 10 when the sample mean is 12 and the sample standard deviation is 1.5."
   ]
  },
  {
   "cell_type": "code",
   "execution_count": 24,
   "metadata": {},
   "outputs": [
    {
     "name": "stdout",
     "output_type": "stream",
     "text": [
      "t score: 5.333333333333333\n"
     ]
    }
   ],
   "source": [
    "samp_size=16\n",
    "pop_mean=10\n",
    "samp_mean=12\n",
    "samp_std=1.5\n",
    "\n",
    "se=samp_std/np.sqrt(samp_size)\n",
    "t=t_test(samp_mean,pop_mean,se)\n",
    "print('t score: {}'.format(t))"
   ]
  },
  {
   "cell_type": "raw",
   "metadata": {},
   "source": [
    "Problem Statement 9: Find the t-score below which we can expect 99% of sample means will fall if samples of size 16 are taken from a normally distributed population."
   ]
  },
  {
   "cell_type": "code",
   "execution_count": 27,
   "metadata": {},
   "outputs": [
    {
     "data": {
      "text/plain": [
       "2.602480294995493"
      ]
     },
     "execution_count": 27,
     "metadata": {},
     "output_type": "execute_result"
    }
   ],
   "source": [
    "samp_size=16\n",
    "st.t.ppf(0.99,15)"
   ]
  },
  {
   "cell_type": "raw",
   "metadata": {},
   "source": [
    "Problem Statement 10: If a random sample of sizerawn from a normal population gives a mean of 60 and a standard deviation of 4, find the range of t-scores where we can expect to find the middle 95% of all sample means. Compute the probability that (−𝑡0.05"
   ]
  },
  {
   "cell_type": "code",
   "execution_count": 4,
   "metadata": {},
   "outputs": [
    {
     "name": "stdout",
     "output_type": "stream",
     "text": [
      "t -score : 1.7108820799094275\n",
      "p-value:  0.85\n"
     ]
    }
   ],
   "source": [
    "samp_size=25\n",
    "mean=60\n",
    "std=4\n",
    "\n",
    "t=st.t.ppf(q=0.95,df=24)\n",
    "print('t -score : {}'.format(t))\n",
    "print('p-value: ',1-0.05-0.1)"
   ]
  },
  {
   "cell_type": "raw",
   "metadata": {},
   "source": [
    "Problem Statement 11:Two-tailed test for difference between two population means Is there evidence to conclude that the number of people travelling from Bangalore to Chennai is different from the number of people travelling from Bangalore to Hosur in a week, given the following: Population 1: Bangalore to Chennai n1 = 1200 x1 = 452 s1 = 212 Population 2: Bangalore to Hosur n2 = 800 x2 = 523 s2 = 185Null Hypothesis "
   ]
  },
  {
   "cell_type": "code",
   "execution_count": 25,
   "metadata": {},
   "outputs": [
    {
     "name": "stdout",
     "output_type": "stream",
     "text": [
      "Null Hypothesis is rejected(number of people travelling from Bangalore to Chennai is different from the number of people travelling from Bangalore to Hosur in a week(𝜇1!=𝜇2)\n"
     ]
    }
   ],
   "source": [
    "#Null Hypothesis H0: number of people travelling from Bangalore to Chennai is same as from the number of people travelling from Bangalore to Hosur in a week(𝜇1=𝜇2) \n",
    "#Alternative Hypothesis H1:number of people travelling from Bangalore to Chennai is different from the number of people travelling from Bangalore to Hosur in a week(𝜇1!=𝜇2)\n",
    "\n",
    "\n",
    "\n",
    "#sample size is larger ,z-test\n",
    "\n",
    "\n",
    "#group1:\n",
    "#banglore to chennai:\n",
    "n1=12000\n",
    "x1=452\n",
    "s1=212\n",
    "\n",
    "#group2:\n",
    "#banglore to hosur:\n",
    "n2=800\n",
    "x2=523\n",
    "s2=185\n",
    "\n",
    "alpha=0.05\n",
    "se1=s1*s1/12000+s2*s2/800\n",
    "se1=np.sqrt(se1)\n",
    "\n",
    "z=z_test(x1,x2,se1)\n",
    "p=2*(1-st.norm.cdf(np.absolute(z)))\n",
    "\n",
    "if p<alpha:\n",
    "    print(\"Null Hypothesis is rejected(number of people travelling from Bangalore to Chennai is different from the number of people travelling from Bangalore to Hosur in a week(𝜇1!=𝜇2)\")\n",
    "else:\n",
    "    print('Null Hypothesis is accepted(number of people travelling from Bangalore to Chennai is same as  from the number of people travelling from Bangalore to Hosur in a week(𝜇1=𝜇2))')"
   ]
  },
  {
   "cell_type": "raw",
   "metadata": {},
   "source": [
    "Problem Statement 12: Is there evidence to conclude that the number of people preferring Duracell battery is different from the number of people preferring Energizer battery, given the following: Population 1: Duracell n1 = 100 x1 = 308 s1 = 84 Population 2: Energizer n2 = 100 x2 = 254 s2 = 6"
   ]
  },
  {
   "cell_type": "code",
   "execution_count": 30,
   "metadata": {},
   "outputs": [
    {
     "name": "stdout",
     "output_type": "stream",
     "text": [
      "Null Hypothesis is rejected(there is evidence to conclude that the number of people preferring Duracell battery is different from the number of people preferring Energizer battery (𝜇1!=𝜇2))\n"
     ]
    }
   ],
   "source": [
    "#Null Hypothesis H0: there is evidence to conclude that the number of people preferring Duracell battery is same as from the number of people preferring Energizer battery (𝜇1=𝜇2) \n",
    "#Alternative Hypothesis H1:there is evidence to conclude that the number of people preferring Duracell battery is different from the number of people preferring Energizer battery (𝜇1!=𝜇2)\n",
    "\n",
    "\n",
    "\n",
    "#sample size is larger ,z-test\n",
    "\n",
    "def z_stat_twomeans(x1,x2,se):\n",
    "    return (x1-x2)/se\n",
    "def sample_error_twomeans(s1,n1,s2,n2):\n",
    "    return (np.sqrt((s1**2/n1)+(s2**2/n2)))\n",
    "alpha=0.05\n",
    "\n",
    "#group1:\n",
    "n1=100\n",
    "x1=308\n",
    "s1=84\n",
    "\n",
    "#group2:\n",
    "\n",
    "n2=100\n",
    "x2=254\n",
    "s2=6\n",
    "\n",
    "se1=s1*s1/100+s2*s2/100\n",
    "se1=np.sqrt(se1)\n",
    "\n",
    "\n",
    "z=z_test(x1,x2,se1)\n",
    "\n",
    "alpha=0.05\n",
    "p=2*(1-st.norm.cdf(np.absolute(z)))\n",
    "if p < alpha:\n",
    "    print(\"Null Hypothesis is rejected(there is evidence to conclude that the number of people preferring Duracell battery is different from the number of people preferring Energizer battery (𝜇1!=𝜇2))\")\n",
    "else:\n",
    "    print(\"Null Hypothesis is accepted(there is evidence to conclude that the number of people preferring Duracell battery is same as from the number of people preferring Energizer battery (𝜇1=𝜇2))\")\n"
   ]
  },
  {
   "cell_type": "raw",
   "metadata": {},
   "source": [
    "Problem Statement 13: Pooled estimate of the population variance Does the data provide sufficient evidence to conclude that average percentage increase in the price of sugar differs when it is sold at two different prices? Population 1: Price of sugar = Rs. 27.50 n1 = 14 x1 = 0.317% s1 = 0.12% Population 2: Price of sugar = Rs. 20.00 n2 = 9 x2 = 0.21% s2 = 0.11% "
   ]
  },
  {
   "cell_type": "code",
   "execution_count": null,
   "metadata": {},
   "outputs": [],
   "source": [
    "#Null Hypothesis H0:avg % is equal\n",
    "#H1: avg not equal"
   ]
  },
  {
   "cell_type": "code",
   "execution_count": 7,
   "metadata": {},
   "outputs": [
    {
     "name": "stdout",
     "output_type": "stream",
     "text": [
      "Null Hypothesis is accepted(Average percentage increase in the price of sugar is same when it is sold at two different prices.)\n"
     ]
    }
   ],
   "source": [
    "def z_stat_twomeans(x1,x2,se):\n",
    "    return (x1-x2)/se\n",
    "def sample_error_twomeans(s1,n1,s2,n2):\n",
    "    return (np.sqrt((s1**2/n1)+(s2**2/n2)))\n",
    "#Sample sizes are small and the population variance is unknown we use t-test for equality of means and estimate the population variance\n",
    "alpha=0.05\n",
    "def est_std(n1,s1,n2,s2):\n",
    "    return np.sqrt(((n1*s1**2)+(n2*s2**2))/(n1+n2-2))\n",
    "est_standard_dev=est_std(n1=14,s1=0.12,n2=9,s2=0.11)\n",
    "t=z_stat_twomeans(x1=0.317,x2=0.21,se=sample_error_twomeans(s1=est_standard_dev,s2=est_standard_dev,n1=14,n2=9))\n",
    "p=2*(1-st.t.cdf(x=np.absolute(t),df=14+9-2))\n",
    "if p<alpha:\n",
    "    print(\"Null Hypothesis is rejected(Average percentage increase in the price of sugar differs when it is sold at two different prices.)\")\n",
    "else:\n",
    "    print(\"Null Hypothesis is accepted(Average percentage increase in the price of sugar is same when it is sold at two different prices.)\")\n",
    "\n",
    "\n",
    "\n"
   ]
  },
  {
   "cell_type": "raw",
   "metadata": {},
   "source": [
    "Problem Statement 14: The manufacturers of compact disk players want to test whether a small price reduction is enough to increase sales of their product. Is there evidence that the small price reduction is enough to increase sales of compact disk players? Population 1: Before reduction n1 = 15 x1 = Rs. 6598 s1 = Rs. 844 Population 2: After reduction n2 = 12 x2 = RS. 6870 s2 = Rs. 669Null Hypothesis H0 : 𝜇2-𝜇1<=0(Average Sales before and after reduction is same or less) Alternative Hypothesis H1 : 𝜇2>𝜇1(Average Sales after reduction increased)(One Tailed Test)"
   ]
  },
  {
   "cell_type": "code",
   "execution_count": 8,
   "metadata": {},
   "outputs": [
    {
     "name": "stdout",
     "output_type": "stream",
     "text": [
      "Null Hypothesis is accepted(Average Sales before and after reduction is same or less)\n"
     ]
    }
   ],
   "source": [
    "#sample size<30\n",
    "\n",
    "alpha=0.05\n",
    "est_stand_dev=est_std(n1=15,s1=844,n2=12,s2=669)\n",
    "t=z_stat_twomeans(x1=6870,x2=6598,se=sample_error_twomeans(s1=est_stand_dev,s2=est_stand_dev,n1=15,n2=12))\n",
    "p=1-(st.t.cdf(x=t,df=15+12-2))\n",
    "if p<alpha:\n",
    "    print(\"Null Hypothesis is rejected(Average Sales after reduction increased)\")\n",
    "else: \n",
    "    print(\"Null Hypothesis is accepted(Average Sales before and after reduction is same or less)\")"
   ]
  },
  {
   "cell_type": "raw",
   "metadata": {},
   "source": [
    "Problem Statement 16: Carry out a one-tailed test to determine whether the population proportion of traveler’s check buyers who buy at least $2500 in checks when sweepstakes prizes are offered as at least 10% higher than the proportion of such buyers when no sweepstakes are on. Population 1: With sweepstakes n1 = 300 x1 = 120 𝑝 = 0.40 Population 2: No sweepstakes n2 = 700 x2 = 140 𝑝 2= 0.20Null Hypothesis H0 : P1-P2>=0.1(the population proportion of traveler’s check buyers who buy at least $2500 in checks when sweepstakes prizes are offered as at least 10% higher than the proportion of such buyers when no sweepstakes are on.) Alternative Hypothesis H1 : P1-P2<0.1(Left-tailed test)"
   ]
  },
  {
   "cell_type": "code",
   "execution_count": 14,
   "metadata": {},
   "outputs": [
    {
     "name": "stdout",
     "output_type": "stream",
     "text": [
      "Null Hypothesis is rejected\n"
     ]
    }
   ],
   "source": [
    "#H0:p1-p2>0.1\n",
    "#H1:p1-p2<0.1\n",
    "alpha=0.05\n",
    "#group1:\n",
    "n1=300\n",
    "x1=120\n",
    "p1=0.40\n",
    "\n",
    "\n",
    "#group2:\n",
    "n2=700\n",
    "x2=140\n",
    "p2=0.20\n",
    "\n",
    "def z_stat_twomeans(x1,x2,se):\n",
    "    return (x1-x2)/se\n",
    "def sample_pop_error_twomeans(s1,n1,s2,n2):\n",
    "    return (np.sqrt((p1*(1-p1)/n1)+(p2*(1-p2)/n2)))\n",
    "\n",
    "z=z_stat_twomeans(x1,x2,se=sample_pop_error_twomeans(p1,300,p2,700))\n",
    "p=st.norm.cdf(z)\n",
    "if p<alpha:\n",
    "    print(\"Null Hypothesis is rejected\")\n",
    "else:\n",
    "    print(\"Null Hypothesis is accepted(the population proportion of traveler’s check buyers who buy at least $2500 in checks when sweepstakes prizes are offered as at least 10% higher than the proportion of such buyers when no sweepstakes are on)\")\n",
    "\n"
   ]
  },
  {
   "cell_type": "raw",
   "metadata": {},
   "source": [
    "Problem Statement 17: A die is thrown 132 times with the following results: Number turned up: 1, 2, 3, 4, 5, 6 Frequency: 16, 20, 25, 14, 29, 28 Is the die unbiased? Consider the degrees of freedom as 𝑝−1.Null Hypotheis H0: The dice is unbiased Alternative Hypothesis H1 : The dice is biasedIf a die is unbiased then the probabilities of getting 1,2,3,4,5,6 must be equal to 1/6. So the expected frequencies of 1,2,3,4,5,6 for 132 trails must be 22(22/132=1/6)"
   ]
  },
  {
   "cell_type": "code",
   "execution_count": null,
   "metadata": {},
   "outputs": [],
   "source": [
    "\\chi^{2}=\\sum \\frac{\\left({O}_{i}-E_{i}\\right)^{2}}{E_{i}}"
   ]
  },
  {
   "cell_type": "code",
   "execution_count": 20,
   "metadata": {},
   "outputs": [
    {
     "name": "stdout",
     "output_type": "stream",
     "text": [
      "Null Hypothesis is accepted(Dice is unbiased)\n"
     ]
    }
   ],
   "source": [
    "observed=[16,20,14,29,28]\n",
    "expected=[22,22,22,22,22]\n",
    "alpha=0.05\n",
    "\n",
    "chi,p=st.chisquare(observed,expected)\n",
    "chi,p\n",
    "\n",
    "if p<0.05:\n",
    "    print(\"rejected(Dice is biased)\")\n",
    "else:\n",
    "    print(\"accepted(Dice is unbiased)\")"
   ]
  },
  {
   "cell_type": "code",
   "execution_count": null,
   "metadata": {},
   "outputs": [],
   "source": []
  },
  {
   "cell_type": "code",
   "execution_count": null,
   "metadata": {},
   "outputs": [],
   "source": []
  },
  {
   "cell_type": "raw",
   "metadata": {},
   "source": [
    "Problem Statement 18: In a certain town, there are about one million eligible voters. A simple random sample of 10,000 eligible voters was chosen to study the relationship between gender and participation in the last election. The results are summarized in the following 2X2 (read two by two) contingency table: Men Women Total Voted 2792 3591 6383 Not Voted 1486 2131 3617 Total 4278 5722 10000 We would want to check whether being a man or a woman (columns) is independent of having voted in the last election (rows). In other words, is “gender and voting independent”?Null Hypothesis H0 :Gender and voting is independent Alternative Hypothesis H1 : Gender and voting are dependent"
   ]
  },
  {
   "cell_type": "code",
   "execution_count": 24,
   "metadata": {},
   "outputs": [
    {
     "name": "stdout",
     "output_type": "stream",
     "text": [
      "expected table: [[2730.6474 3652.3526]\n",
      " [1547.3526 2069.6474]]\n",
      "H0 :rejected(Gender and voting are dependent)\n"
     ]
    }
   ],
   "source": [
    "obs=np.array([[2792,3591],[1486,2131]])\n",
    "chi2,p,dof,expected=st.chi2_contingency(obs)\n",
    "print('expected table:',expected)\n",
    "\n",
    "alpha=0.05\n",
    "if p<alpha:\n",
    "    print(\"H0 :rejected(Gender and voting are dependent)\")\n",
    "else:\n",
    "    print(\"H1: accepted(Gender and voting is independent)\")\n",
    "\n",
    "\n"
   ]
  },
  {
   "cell_type": "raw",
   "metadata": {},
   "source": [
    "Problem Statement 19: A sample of 100 voters are asked which of four candidates they would vote for in an election. The number supporting each candidate is given below: Higgins Reardon White Charlton 41 19 24 16 Do the data suggest that all candidates are equally popular? [Chi-Square = 14.96, with 3 df, 𝑝<0.05.Null Hypothesis H0 : All candidates are equally popular Alternative Hypothesis H1 : All candidates are not equally popular"
   ]
  },
  {
   "cell_type": "code",
   "execution_count": 27,
   "metadata": {},
   "outputs": [
    {
     "name": "stdout",
     "output_type": "stream",
     "text": [
      "H0 :rejected(all are equally popular)\n"
     ]
    }
   ],
   "source": [
    "obs=[41,19,24,16]\n",
    "exp=[25,25,25,25]\n",
    "chi,p=st.chisquare(obs,exp)\n",
    "\n",
    "if p<alpha:\n",
    "    print(\"H0 :rejected(all are equally popular)\")\n",
    "else:\n",
    "    print(\"H1: accepted(not equally popular)\")\n",
    "\n"
   ]
  },
  {
   "cell_type": "raw",
   "metadata": {},
   "source": [
    "Problem Statement 20: Children of three ages are asked to indicate their preference for three photographs of adults. Do the data suggest that there is a significant relationship between age and photograph preference? What is wrong with this study? [Chi-Square = 29.6, with 4 df: 𝑝 < 0.05].Null Hypothesis H0 : There is no significant relationship between age and photograph preference. Alternative Hypothesis H1 : There is a significant relationship between age and photograph preference."
   ]
  },
  {
   "cell_type": "code",
   "execution_count": null,
   "metadata": {},
   "outputs": [],
   "source": []
  },
  {
   "cell_type": "raw",
   "metadata": {},
   "source": [
    "Problem Statement 21: A study of conformity using the Asch paradigm involved two conditions: one where one confederate supported the true judgement and another where no confederate gave the correct response. Support No Support Conform 18 40 Not Conform 32 10 Is there a significant difference between the \"support\" and \"no support\" conditions in the frequency with which individuals are likely to conform? [Chi-Square = 19.87, with 1 df: 𝑝 < 0.05]. ProblemNull Hypothesis H0 : There is no significant difference between the \"support\" and \"no support\" conditions in the frequency with which individuals are likely to conform. Alternative Hypothesis H1 : There is a significant difference between the \"support\" and \"no support\" conditions in the frequency with which individuals are likely to conform."
   ]
  },
  {
   "cell_type": "raw",
   "metadata": {},
   "source": [
    "Problem Statement 22: We want to test whether short people differ with respect to their leadership qualities (Genghis Khan, Adolf Hitler and Napoleon were all stature-deprived, and how many midget MP's are there?) The following table shows the frequencies with which 43 short people and 52 tall people were categorized as \"leaders\", \"followers\" or as \"unclassifiable\". Is there a relationship between height and leadership qualities? [Chi-Square = 10.71, with 2 df: 𝑝 < 0.01]."
   ]
  },
  {
   "cell_type": "raw",
   "metadata": {},
   "source": [
    "Problem Statement 23: Each respondent in the Current Population Survey of March 1993 was classified as employed, unemployed, or outside the labor force. The results for men in California age 35- 44 can be cross-tabulated by marital status, as follows: Men of different marital status seem to have different distributions of labor force status. Or is this just chance variation? (you may assume the table results from a simple random sample.)"
   ]
  },
  {
   "cell_type": "code",
   "execution_count": null,
   "metadata": {},
   "outputs": [],
   "source": []
  },
  {
   "cell_type": "code",
   "execution_count": null,
   "metadata": {},
   "outputs": [],
   "source": []
  },
  {
   "cell_type": "code",
   "execution_count": null,
   "metadata": {},
   "outputs": [],
   "source": []
  },
  {
   "cell_type": "code",
   "execution_count": null,
   "metadata": {},
   "outputs": [],
   "source": []
  },
  {
   "cell_type": "code",
   "execution_count": null,
   "metadata": {},
   "outputs": [],
   "source": []
  },
  {
   "cell_type": "code",
   "execution_count": null,
   "metadata": {},
   "outputs": [],
   "source": []
  },
  {
   "cell_type": "code",
   "execution_count": null,
   "metadata": {},
   "outputs": [],
   "source": []
  }
 ],
 "metadata": {
  "kernelspec": {
   "display_name": "Python 3",
   "language": "python",
   "name": "python3"
  },
  "language_info": {
   "codemirror_mode": {
    "name": "ipython",
    "version": 3
   },
   "file_extension": ".py",
   "mimetype": "text/x-python",
   "name": "python",
   "nbconvert_exporter": "python",
   "pygments_lexer": "ipython3",
   "version": "3.8.5"
  }
 },
 "nbformat": 4,
 "nbformat_minor": 4
}
