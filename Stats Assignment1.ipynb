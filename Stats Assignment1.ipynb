{
 "cells": [
  {
   "cell_type": "raw",
   "metadata": {},
   "source": [
    "Problem Statement 1:\n",
    "The marks awarded for an assignment set for a Year 8 class of 20 students were as\n",
    "follows:\n",
    "6 7 5 7 7 8 7 6 9 7 4 10 6 8 8 9 5 6 4 8"
   ]
  },
  {
   "cell_type": "code",
   "execution_count": 9,
   "metadata": {},
   "outputs": [
    {
     "name": "stdout",
     "output_type": "stream",
     "text": [
      "mean  : 6.85\n",
      "median: 7.0\n",
      "mode  : ModeResult(mode=array([7]), count=array([5]))\n",
      "Std   : 1.5898113095584647\n",
      "Var   : 2.5275000000000003\n"
     ]
    }
   ],
   "source": [
    "import numpy as np\n",
    "from scipy import stats\n",
    "from scipy.integrate import quad\n",
    "print('mean  :',np.mean([6 ,7, 5, 7, 7, 8, 7, 6, 9, 7, 4, 10, 6, 8, 8, 9, 5, 6, 4, 8]))\n",
    "print('median:',np.median([6 ,7, 5, 7, 7, 8, 7, 6, 9, 7, 4, 10, 6, 8, 8, 9, 5, 6, 4, 8]))\n",
    "print('mode  :',stats.mode([6 ,7, 5, 7, 7, 8, 7, 6, 9, 7, 4, 10, 6, 8, 8, 9, 5, 6, 4, 8]))\n",
    "print('Std   :',np.std([6 ,7, 5, 7, 7, 8, 7, 6, 9, 7, 4, 10, 6, 8, 8, 9, 5, 6, 4, 8]))\n",
    "print('Var   :',np.var([6 ,7, 5, 7, 7, 8, 7, 6, 9, 7, 4, 10, 6, 8, 8, 9, 5, 6, 4, 8]))"
   ]
  },
  {
   "cell_type": "raw",
   "metadata": {},
   "source": [
    "Problem Statement 2:\n",
    "The number of calls from motorists per day for roadside service was recorded for a\n",
    "particular month:\n",
    "28, 122, 217, 130, 120, 86, 80, 90, 140, 120, 70, 40, 145, 113, 90, 68, 174, 194, 170,\n",
    "100, 75, 104, 97, 75,\n",
    "123, 100, 75, 104, 97, 75, 123, 100, 89, 120, 109"
   ]
  },
  {
   "cell_type": "code",
   "execution_count": 15,
   "metadata": {},
   "outputs": [
    {
     "name": "stdout",
     "output_type": "stream",
     "text": [
      "mean  : 107.51428571428572\n",
      "median: 100.0\n",
      "mode  : ModeResult(mode=array([75]), count=array([4]))\n",
      "Std   : 38.77287080168403\n",
      "Var   : 1503.3355102040816\n"
     ]
    }
   ],
   "source": [
    "print('mean  :',np.mean([28, 122, 217, 130, 120, 86, 80, 90, 140, 120, 70, 40, 145, 113, 90, 68, 174, 194, 170,\n",
    "100, 75, 104, 97, 75,\n",
    "123, 100, 75, 104, 97, 75, 123, 100, 89, 120, 109]))\n",
    "print('median:',np.median([28, 122, 217, 130, 120, 86, 80, 90, 140, 120, 70, 40, 145, 113, 90, 68, 174, 194, 170,\n",
    "100, 75, 104, 97, 75,\n",
    "123, 100, 75, 104, 97, 75, 123, 100, 89, 120, 109]))\n",
    "print('mode  :',stats.mode([28, 122, 217, 130, 120, 86, 80, 90, 140, 120, 70, 40, 145, 113, 90, 68, 174, 194, 170,\n",
    "100, 75, 104, 97, 75,\n",
    "123, 100, 75, 104, 97, 75, 123, 100, 89, 120, 109]))\n",
    "print('Std   :',np.std([28, 122, 217, 130, 120, 86, 80, 90, 140, 120, 70, 40, 145, 113, 90, 68, 174, 194, 170,\n",
    "100, 75, 104, 97, 75,\n",
    "123, 100, 75, 104, 97, 75, 123, 100, 89, 120, 109]))\n",
    "print('Var   :',np.var([28, 122, 217, 130, 120, 86, 80, 90, 140, 120, 70, 40, 145, 113, 90, 68, 174, 194, 170,\n",
    "100, 75, 104, 97, 75,\n",
    "123, 100, 75, 104, 97, 75, 123, 100, 89, 120, 109]))"
   ]
  },
  {
   "cell_type": "raw",
   "metadata": {},
   "source": [
    "Problem Statement 3:\n",
    "The number of times I go to the gym in weekdays, are given below along with its\n",
    "associated probability:\n",
    "x = 0, 1, 2, 3, 4, 5\n",
    "f(x) = 0.09, 0.15, 0.40, 0.25, 0.10, 0.01\n",
    "Calculate the mean no. of workouts in a week. Also evaluate the variance involved in"
   ]
  },
  {
   "cell_type": "code",
   "execution_count": 4,
   "metadata": {},
   "outputs": [
    {
     "name": "stdout",
     "output_type": "stream",
     "text": [
      "Avg : 2.15\n",
      "var: 1.2275\n"
     ]
    }
   ],
   "source": [
    "x=0,1,2,3,4,5\n",
    "p= 0.09, 0.15, 0.40, 0.25, 0.10, 0.01\n",
    "avg=0\n",
    "var=0\n",
    "for i,j in zip(x,p):\n",
    "    avg=avg+i*j\n",
    "print('Avg : {}'.format(avg))\n",
    "for i ,j  in zip(x,p):\n",
    "    var=var+(((i-avg)**2)*j)\n",
    "    \n",
    "print('var: {}'.format(var))\n"
   ]
  },
  {
   "cell_type": "raw",
   "metadata": {},
   "source": [
    "Problem Statement 4: \n",
    "Let the continuous random variable D denote the diameter of the hole drilled in an aluminum sheet. The target diameter to be achieved is 12.5mm. Random disturbances in the process often result in inaccuracy. Historical data shows that the distribution of D can be modelled by the PDF (𝑑) = 20𝑒−20(𝑑−12.5), 𝑑 ≥ 12.5. If a part with diameter > 12.6 mm needs to be scrapped, what is the proportion of those parts? What is the CDF when the diameter is of 11 mm? What is your conclusion regarding the proportion of scraps?"
   ]
  },
  {
   "cell_type": "code",
   "execution_count": 54,
   "metadata": {},
   "outputs": [
    {
     "name": "stdout",
     "output_type": "stream",
     "text": [
      "portion of the part with the diameter > 12.6: 0.13533528323661398\n",
      "CDF when diameter is of 11 : 0\n",
      "proportion of 12.5<d<12.6: 0.8646647167633718\n",
      "conclusion is the proportion between 12.5 and 12.6 is greater then portion greater then 12.6 is 1.which means portion less then 12.5 is zero\n"
     ]
    }
   ],
   "source": [
    "def prob_func(d):\n",
    "    return (20*np.exp(-20*(d-12.5)))\n",
    "res=quad(prob_func,a=12.6,b=np.inf)[0]\n",
    "\n",
    "print('portion of the part with the diameter > 12.6:',res)\n",
    "#If d<12.5, pdf(d)=0\n",
    "print('CDF when diameter is of 11 : 0')\n",
    "\n",
    "res1=quad(prob_func,a=12.5,b=12.6)[0]\n",
    "print('proportion of 12.5<d<12.6:',res1)\n",
    "\n",
    "print('conclusion is the proportion between 12.5 and 12.6 is greater then portion greater then 12.6 is 1.which means portion less then 12.5 is zero')\n",
    "\n"
   ]
  },
  {
   "cell_type": "raw",
   "metadata": {},
   "source": [
    "Problem Statement 5: A company manufactures LED bulbs with a faulty rate of 30%. If I randomly select 6 chosen LEDs, what is the probability of having 2 faulty LEDs in my sample? Calculate the average value of this process. Also evaluate the standard deviation associated with it."
   ]
  },
  {
   "cell_type": "code",
   "execution_count": 72,
   "metadata": {},
   "outputs": [
    {
     "name": "stdout",
     "output_type": "stream",
     "text": [
      "the probability of having 2 faulty LEDs in my sample:0.01\n",
      "average of this process :0.16\n",
      "Std of the process:0.3929376540877699\n"
     ]
    }
   ],
   "source": [
    "from numpy.random import binomial\n",
    "import seaborn as sb\n",
    "import matplotlib.pyplot as plt\n",
    "p=0.03\n",
    "n=6\n",
    "r=2\n",
    "x=binomial(n=6,p=0.03,size=200)\n",
    "faulty_2_prob=np.sum(x==2)/200\n",
    "mean=x.mean()\n",
    "std=x.std()\n",
    "\n",
    "print('the probability of having 2 faulty LEDs in my sample:{}'.format(faulty_2_prob))\n",
    "print('average of this process :{}'.format(mean))\n",
    "print('Std of the process:{}'.format(std))\n",
    "\n",
    "\n",
    "\n"
   ]
  },
  {
   "cell_type": "raw",
   "metadata": {},
   "source": [
    "6.Gaurav and Barakha are both preparing for entrance exams. Gaurav attempts to solve 8 questions per day with a correction rate of 75%, while Barakha averages around 12 questions per day with a correction rate of 45%. What is the probability that each of them will solve 5 questions correctly? What happens in cases of 4 and 6 correct solutions? What do you infer from it? What are the two main governing factors affecting their ability to solve questions correctly? Give a pictorial representation of the same to validate your answer"
   ]
  },
  {
   "cell_type": "code",
   "execution_count": 79,
   "metadata": {},
   "outputs": [
    {
     "name": "stdout",
     "output_type": "stream",
     "text": [
      "0.2088\n",
      "0.22195\n",
      "0.088\n",
      "0.1698\n",
      "0.3117\n",
      "0.21145\n"
     ]
    }
   ],
   "source": [
    "gaurav_prob=binomial(8,0.75,20000)\n",
    "barkha_prob=binomial(12,0.45,20000)\n",
    "\n",
    "gaurav=[]\n",
    "barkha=[]\n",
    "\n",
    "for i in range(8):\n",
    "    gaurav.append(np.sum(gaurav_prob==i)/20000)\n",
    "    barkha.append(np.sum(barkha_prob==i)/20000)\n",
    "    \n",
    "print(gaurav[5])\n",
    "print(barkha[5])\n",
    "print(gaurav[4])\n",
    "print(barkha[4])\n",
    "print(gaurav[6])\n",
    "print(barkha[6])\n",
    "\n",
    "    \n",
    "    \n"
   ]
  },
  {
   "cell_type": "code",
   "execution_count": 81,
   "metadata": {},
   "outputs": [
    {
     "data": {
      "text/plain": [
       "Text(0.5, 1.0, 'Probability distribution of Gaurav with p=0.75,n=8')"
      ]
     },
     "execution_count": 81,
     "metadata": {},
     "output_type": "execute_result"
    },
    {
     "data": {
      "image/png": "[encoded data removed]",
      "text/plain": [
       "<Figure size 432x288 with 1 Axes>"
      ]
     },
     "metadata": {
      "needs_background": "light"
     },
     "output_type": "display_data"
    }
   ],
   "source": [
    "x=[i for i in range(8)]\n",
    "plt.plot(x,gaurav)\n",
    "plt.xlabel(\"Number of correct questions\")\n",
    "plt.ylabel(\"P(x)\")\n",
    "plt.title(\"Probability distribution of Gaurav with p=0.75,n=8\")"
   ]
  },
  {
   "cell_type": "code",
   "execution_count": 86,
   "metadata": {
    "scrolled": true
   },
   "outputs": [
    {
     "data": {
      "text/plain": [
       "Text(0.5, 1.0, 'Probability distribution of barkha with p=0.45,n=12')"
      ]
     },
     "execution_count": 86,
     "metadata": {},
     "output_type": "execute_result"
    },
    {
     "data": {
      "image/png": "[encoded data removed]",
      "text/plain": [
       "<Figure size 432x288 with 1 Axes>"
      ]
     },
     "metadata": {
      "needs_background": "light"
     },
     "output_type": "display_data"
    }
   ],
   "source": [
    "x=[i for i in range(8)]\n",
    "plt.plot(x,barkha)\n",
    "plt.xlabel(\"Number of correct questions\")\n",
    "plt.ylabel(\"P(x)\")\n",
    "plt.title(\"Probability distribution of barkha with p=0.45,n=12\")\n"
   ]
  },
  {
   "cell_type": "code",
   "execution_count": 88,
   "metadata": {},
   "outputs": [
    {
     "data": {
      "text/plain": [
       "<matplotlib.legend.Legend at 0x1b308aae3d0>"
      ]
     },
     "execution_count": 88,
     "metadata": {},
     "output_type": "execute_result"
    },
    {
     "data": {
      "image/png": "[encoded data removed]",
      "text/plain": [
       "<Figure size 432x288 with 1 Axes>"
      ]
     },
     "metadata": {
      "needs_background": "light"
     },
     "output_type": "display_data"
    }
   ],
   "source": [
    "plt.plot(gaurav,label='Gaurav')\n",
    "plt.plot(barkha,label='Barkha')\n",
    "plt.figlegend()"
   ]
  },
  {
   "cell_type": "raw",
   "metadata": {},
   "source": [
    "7.Customers arrive at a rate of 72 per hour to my shop. What is the probability of 𝑘 customers arriving in 4 minutes? a) 5 customers, b) not more than 3 customers, c) more than 3 customers. Give a pictorial representation of the same to validate your answer."
   ]
  },
  {
   "cell_type": "code",
   "execution_count": 94,
   "metadata": {},
   "outputs": [
    {
     "data": {
      "text/plain": [
       "0"
      ]
     },
     "execution_count": 94,
     "metadata": {},
     "output_type": "execute_result"
    }
   ],
   "source": [
    "from numpy import random\n",
    "cust_4min=4*(72/60)\n",
    "cust_dist=random.poisson(cust_4min,20000)\n",
    "#p(customers==5)\n",
    "a=np.sum(cust_dist==5/20000)\n",
    "a"
   ]
  },
  {
   "cell_type": "code",
   "execution_count": null,
   "metadata": {},
   "outputs": [],
   "source": []
  },
  {
   "cell_type": "code",
   "execution_count": null,
   "metadata": {},
   "outputs": [],
   "source": []
  },
  {
   "cell_type": "code",
   "execution_count": null,
   "metadata": {},
   "outputs": [],
   "source": []
  },
  {
   "cell_type": "code",
   "execution_count": null,
   "metadata": {},
   "outputs": [],
   "source": []
  },
  {
   "cell_type": "code",
   "execution_count": null,
   "metadata": {},
   "outputs": [],
   "source": []
  },
  {
   "cell_type": "code",
   "execution_count": null,
   "metadata": {},
   "outputs": [],
   "source": []
  },
  {
   "cell_type": "code",
   "execution_count": null,
   "metadata": {},
   "outputs": [],
   "source": []
  },
  {
   "cell_type": "code",
   "execution_count": null,
   "metadata": {},
   "outputs": [],
   "source": []
  }
 ],
 "metadata": {
  "kernelspec": {
   "display_name": "Python 3",
   "language": "python",
   "name": "python3"
  },
  "language_info": {
   "codemirror_mode": {
    "name": "ipython",
    "version": 3
   },
   "file_extension": ".py",
   "mimetype": "text/x-python",
   "name": "python",
   "nbconvert_exporter": "python",
   "pygments_lexer": "ipython3",
   "version": "3.8.5"
  }
 },
 "nbformat": 4,
 "nbformat_minor": 4
}
