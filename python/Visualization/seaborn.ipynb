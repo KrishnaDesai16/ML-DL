{
 "cells": [
  {
   "cell_type": "markdown",
   "metadata": {},
   "source": [
    "# Visualizing statistical relationships\n",
    "\n",
    "Statistical analysis is a process of understanding how variables in a dataset relate to each other and how those relationships depend on other variables. Visualization can be a core component of this process because, when data are visualized properly, the human visual system can see trends and patterns that indicate a relationship.\n",
    "\n",
    "### 1. Numerical Data Ploting\n",
    "- relplot()\n",
    "- scatterplot()\n",
    "- lineplot()\n",
    "\n",
    "### 2. Categorical Data Ploting\n",
    "- catplot()\n",
    "- boxplot()\n",
    "- stripplot()\n",
    "- swarmplot()\n",
    "- etc...\n",
    "\n",
    "### 3. Visualizing Distribution of the Data\n",
    "- distplot()\n",
    "- kdeplot()\n",
    "- jointplot()\n",
    "- rugplot()\n",
    "\n",
    "### 4. Linear Regression and Relationship\n",
    "- regplot()\n",
    "- lmplot()\n",
    "\n",
    "### 5. Controlling Ploted Figure Aesthetics\n",
    "- figure styling\n",
    "- axes styling\n",
    "- color palettes\n",
    "- etc.."
   ]
  },
  {
   "cell_type": "code",
   "execution_count": 2,
   "metadata": {},
   "outputs": [],
   "source": [
    "import pandas as pd\n",
    "import numpy as np\n",
    "import matplotlib.pyplot as plt\n",
    "%matplotlib inline\n",
    "import seaborn as sb"
   ]
  },
  {
   "cell_type": "code",
   "execution_count": null,
   "metadata": {},
   "outputs": [],
   "source": []
  }
 ],
 "metadata": {
  "kernelspec": {
   "display_name": "Python 3",
   "language": "python",
   "name": "python3"
  },
  "language_info": {
   "codemirror_mode": {
    "name": "ipython",
    "version": 3
   },
   "file_extension": ".py",
   "mimetype": "text/x-python",
   "name": "python",
   "nbconvert_exporter": "python",
   "pygments_lexer": "ipython3",
   "version": "3.7.6"
  }
 },
 "nbformat": 4,
 "nbformat_minor": 4
}
