{
 "cells": [
  {
   "cell_type": "markdown",
   "metadata": {},
   "source": [
    "# # Errors and Exception Handling"
   ]
  },
  {
   "cell_type": "code",
   "execution_count": null,
   "metadata": {},
   "outputs": [],
   "source": [
    "5/0"
   ]
  },
  {
   "cell_type": "code",
   "execution_count": null,
   "metadata": {},
   "outputs": [],
   "source": [
    "try:\n",
    "    file=open('test21.txt')\n",
    "    print(file.read())\n",
    "    #file.write('this is an error')\n",
    "except IOError:\n",
    "    print('this is not a correct code')\n",
    "try:\n",
    "    b=int(input('b='))\n",
    "    c=10/b\n",
    "    print(c)\n",
    "except:\n",
    "    print('Zero divisible error')\n",
    "print('next line')"
   ]
  },
  {
   "cell_type": "code",
   "execution_count": null,
   "metadata": {},
   "outputs": [],
   "source": [
    "try:\n",
    "    file=open('test22.txt','w')\n",
    "    file.write('this is new line of code ')\n",
    "except:\n",
    "    print('this is not correct code')\n",
    "try:\n",
    "    b=int(input())\n",
    "    c=10/b\n",
    "    print(c)\n",
    "except:\n",
    "    print('Zero Division error')\n",
    "    try:\n",
    "        a=int(input('a='))\n",
    "        c=6+a\n",
    "        print('this a nested try')\n",
    "    except:\n",
    "        print('you made a mistake')\n",
    "    else:\n",
    "        print('nested else')\n",
    "else:#when try block excute sucessfully -->else block will excute \n",
    "    print('outer else')\n",
    "finally:\n",
    "    print('always excute outer finally')"
   ]
  },
  {
   "cell_type": "code",
   "execution_count": null,
   "metadata": {},
   "outputs": [],
   "source": [
    "while True:\n",
    "    try:\n",
    "   \n",
    "        a=int(input('a='))\n",
    "        b=int(input('b='))\n",
    "        res=a/b\n",
    "        print(res)\n",
    "        break\n",
    "                              \n",
    "    except:\n",
    "        print('invalid input')\n",
    "        continue\n",
    "    \n",
    "   "
   ]
  },
  {
   "cell_type": "code",
   "execution_count": 2,
   "metadata": {},
   "outputs": [],
   "source": [
    "#system error   "
   ]
  },
  {
   "cell_type": "code",
   "execution_count": 1,
   "metadata": {},
   "outputs": [
    {
     "name": "stdout",
     "output_type": "stream",
     "text": [
      "division by zero\n"
     ]
    }
   ],
   "source": [
    "try:\n",
    "    a=10\n",
    "    b=0\n",
    "    c=a/b\n",
    "except ArithmeticError as e:\n",
    "    print(e)"
   ]
  },
  {
   "cell_type": "code",
   "execution_count": 9,
   "metadata": {},
   "outputs": [
    {
     "name": "stdout",
     "output_type": "stream",
     "text": [
      "5\n",
      "0\n",
      "Error: division by zero\n"
     ]
    }
   ],
   "source": [
    "try:\n",
    "    a=int(input())\n",
    "    b=int(input())\n",
    "    c=a/b\n",
    "    print(c)\n",
    "except SyntaxError  as e:\n",
    "    print('Error: ',e)\n",
    "except ValueError as e:\n",
    "    print('Error: ',e)\n",
    "except IOError as e:\n",
    "    print('Error: ',e)\n",
    "#except (SyntaxError,ValueError,IOError) as e:\n",
    "#    print('Error:',e)\n",
    "\n",
    "except Exception as e:\n",
    "    print('Error:',e)\n",
    "    "
   ]
  },
  {
   "cell_type": "markdown",
   "metadata": {},
   "source": [
    "# Custom Exception"
   ]
  },
  {
   "cell_type": "code",
   "execution_count": 10,
   "metadata": {},
   "outputs": [],
   "source": [
    "class myexception(Exception):\n",
    "    pass"
   ]
  },
  {
   "cell_type": "code",
   "execution_count": 14,
   "metadata": {},
   "outputs": [
    {
     "name": "stdout",
     "output_type": "stream",
     "text": [
      "[1, 2, 3, 4, 6, 7]\n"
     ]
    }
   ],
   "source": [
    "try:\n",
    "    a=[1,2,3,4]\n",
    "    b=[6,7]\n",
    "    if type(a)!=type(b):\n",
    "        raise myexception\n",
    "    elif type(a)==type(b):\n",
    "        c=a+b\n",
    "        print(c)\n",
    "except:\n",
    "    print('a and b has different type')\n",
    "        "
   ]
  },
  {
   "cell_type": "code",
   "execution_count": null,
   "metadata": {},
   "outputs": [],
   "source": []
  },
  {
   "cell_type": "code",
   "execution_count": null,
   "metadata": {},
   "outputs": [],
   "source": []
  },
  {
   "cell_type": "code",
   "execution_count": null,
   "metadata": {},
   "outputs": [],
   "source": []
  },
  {
   "cell_type": "code",
   "execution_count": null,
   "metadata": {},
   "outputs": [],
   "source": []
  },
  {
   "cell_type": "code",
   "execution_count": null,
   "metadata": {},
   "outputs": [],
   "source": []
  },
  {
   "cell_type": "code",
   "execution_count": null,
   "metadata": {},
   "outputs": [],
   "source": []
  },
  {
   "cell_type": "code",
   "execution_count": null,
   "metadata": {},
   "outputs": [],
   "source": []
  }
 ],
 "metadata": {
  "kernelspec": {
   "display_name": "Python 3",
   "language": "python",
   "name": "python3"
  },
  "language_info": {
   "codemirror_mode": {
    "name": "ipython",
    "version": 3
   },
   "file_extension": ".py",
   "mimetype": "text/x-python",
   "name": "python",
   "nbconvert_exporter": "python",
   "pygments_lexer": "ipython3",
   "version": "3.7.6"
  }
 },
 "nbformat": 4,
 "nbformat_minor": 4
}
