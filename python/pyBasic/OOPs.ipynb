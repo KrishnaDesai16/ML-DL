{
 "cells": [
  {
   "cell_type": "markdown",
   "metadata": {},
   "source": [
    "# Object Oriented Programming and File I/O"
   ]
  },
  {
   "cell_type": "raw",
   "metadata": {},
   "source": [
    "class:its just a classification or user define datastructure\n",
    "object:real world entity or that we able to manipulate "
   ]
  },
  {
   "cell_type": "code",
   "execution_count": 1,
   "metadata": {},
   "outputs": [
    {
     "name": "stdout",
     "output_type": "stream",
     "text": [
      "<class 'int'>\n"
     ]
    }
   ],
   "source": [
    "i=1\n",
    "print(type(i))\n",
    "\n",
    "#here we can say that entire python has been designed in oops "
   ]
  },
  {
   "cell_type": "code",
   "execution_count": 2,
   "metadata": {},
   "outputs": [
    {
     "name": "stdout",
     "output_type": "stream",
     "text": [
      "<class 'str'>\n"
     ]
    }
   ],
   "source": [
    "s='sudh'\n",
    "print(type(s))"
   ]
  },
  {
   "cell_type": "code",
   "execution_count": 3,
   "metadata": {},
   "outputs": [
    {
     "name": "stdout",
     "output_type": "stream",
     "text": [
      "krishna has id 2\n"
     ]
    }
   ],
   "source": [
    "class Person:\n",
    "    pass\n",
    "b=Person()\n",
    "b.name='krishna'\n",
    "b.id=2\n",
    "print('%s has id %d'%(b.name,b.id))"
   ]
  },
  {
   "cell_type": "code",
   "execution_count": 4,
   "metadata": {},
   "outputs": [
    {
     "data": {
      "text/plain": [
       "2"
      ]
     },
     "execution_count": 4,
     "metadata": {},
     "output_type": "execute_result"
    }
   ],
   "source": [
    "class test:\n",
    "    def __init__(self,name,id):\n",
    "        self.name=name\n",
    "        self.id=id\n",
    "obj=test('yadav',2)\n",
    "obj.name\n",
    "obj.id\n"
   ]
  },
  {
   "cell_type": "code",
   "execution_count": 5,
   "metadata": {},
   "outputs": [
    {
     "data": {
      "text/plain": [
       "{'name': 'john', 'surname': 'martin', 'dob': 1992}"
      ]
     },
     "execution_count": 5,
     "metadata": {},
     "output_type": "execute_result"
    }
   ],
   "source": [
    "class biodata:\n",
    "        def __init__(a,name,surname,dob):\n",
    "            a.name=name\n",
    "            a.surname=surname\n",
    "            a.dob=dob\n",
    "        def age(a,currentyear):\n",
    "            return currentyear-a.dob\n",
    "        \n",
    "        def __str__(a):\n",
    "             return '% s  %s is born in  %d'%(a.name,a.surname,a.dob)\n",
    "    \n",
    "alex=biodata('john','martin',1992)\n",
    "alex.__class__\n",
    "alex.__dict__   #it shows how internally data is stored \n",
    "\n"
   ]
  },
  {
   "cell_type": "markdown",
   "metadata": {},
   "source": [
    "# Abstraction"
   ]
  },
  {
   "cell_type": "code",
   "execution_count": 6,
   "metadata": {},
   "outputs": [
    {
     "data": {
      "text/plain": [
       "{'_name': 'john', '_surname': 'martin', '_dob': 1992}"
      ]
     },
     "execution_count": 6,
     "metadata": {},
     "output_type": "execute_result"
    }
   ],
   "source": [
    "class biodata:\n",
    "        def __init__(a,name,surname,dob):\n",
    "            a._name=name\n",
    "            a._surname=surname\n",
    "            a._dob=dob\n",
    "        def age(a,currentyear):\n",
    "            return currentyear-a.dob\n",
    "        \n",
    "        def __str__(a):\n",
    "             return '% s  %s is born in  %d'%(a._name,a._surname,_a.dob)\n",
    "    \n",
    "alex=biodata('john','martin',1992)\n",
    "alex.__class__\n",
    "alex.__dict__   #it shows how internally data is stored \n",
    "\n",
    "#alex._name"
   ]
  },
  {
   "cell_type": "code",
   "execution_count": 7,
   "metadata": {},
   "outputs": [
    {
     "data": {
      "text/plain": [
       "28"
      ]
     },
     "execution_count": 7,
     "metadata": {},
     "output_type": "execute_result"
    }
   ],
   "source": [
    "#_var-->protected variable\n",
    "#__var-->private variable\n",
    "class biodata:\n",
    "        def __init__(a,name,surname,dob):\n",
    "            a.__name=name\n",
    "            a.__surname=surname\n",
    "            a.__dob=dob\n",
    "        def age(a,currentyear):\n",
    "            return currentyear-a.__dob\n",
    "        \n",
    "        def __str__(a):\n",
    "             return '% s  %s is born in  %d'%(a.__name,a.__surname,__a.dob)\n",
    "    \n",
    "alex=biodata('john','martin',1992)\n",
    "alex.__class__\n",
    "alex.__dict__\n",
    "\n",
    "#alex._biodata__name\n",
    "alex.age(2020)\n"
   ]
  },
  {
   "cell_type": "code",
   "execution_count": 12,
   "metadata": {},
   "outputs": [
    {
     "data": {
      "text/plain": [
       "'this is private method'"
      ]
     },
     "execution_count": 12,
     "metadata": {},
     "output_type": "execute_result"
    }
   ],
   "source": [
    "class xyz:\n",
    "    def __init__(self,a,b,c):\n",
    "        self.a=a\n",
    "        self.b=b\n",
    "        self.c=c\n",
    "    def test(self):\n",
    "        return 'this is public method'\n",
    "    def _test1(self):\n",
    "        return 'this is protected method'\n",
    "    def __test2(self):\n",
    "        return 'this is private method'\n",
    "object=xyz(4,5,6)\n",
    "object.test()\n",
    "object._test1()\n",
    "object._xyz__test2()"
   ]
  },
  {
   "cell_type": "markdown",
   "metadata": {},
   "source": [
    "# Inheritence"
   ]
  },
  {
   "cell_type": "code",
   "execution_count": 87,
   "metadata": {},
   "outputs": [],
   "source": [
    "class xyz:\n",
    "    def __init__(self,a,b,c=1):\n",
    "        self.a=a\n",
    "        self.b=b\n",
    "        self.c=c\n",
    "    def test(self):\n",
    "        return 'this is public method'\n",
    "obj=xyz(2,3,4)\n"
   ]
  },
  {
   "cell_type": "code",
   "execution_count": 110,
   "metadata": {},
   "outputs": [],
   "source": [
    "class abc(xyz):\n",
    "    def __init__(self,a,b):\n",
    "        super().__init__(a,b)"
   ]
  },
  {
   "cell_type": "code",
   "execution_count": 113,
   "metadata": {},
   "outputs": [
    {
     "data": {
      "text/plain": [
       "'hj'"
      ]
     },
     "execution_count": 113,
     "metadata": {},
     "output_type": "execute_result"
    }
   ],
   "source": [
    "dj=abc('hj','jj')\n",
    "dj.a"
   ]
  },
  {
   "cell_type": "code",
   "execution_count": 114,
   "metadata": {},
   "outputs": [],
   "source": [
    "#multiple inheritence"
   ]
  },
  {
   "cell_type": "code",
   "execution_count": 118,
   "metadata": {},
   "outputs": [
    {
     "name": "stdout",
     "output_type": "stream",
     "text": [
      "this is class A\n",
      "this is class B\n"
     ]
    }
   ],
   "source": [
    "class A:\n",
    "    def __init__(self,a,b):\n",
    "        self.a=a\n",
    "        self.b=b\n",
    "    def test(self):\n",
    "        print('this is class A')\n",
    "class B:\n",
    "    def __init__(self,x,y):\n",
    "        self.x=x\n",
    "        self.y=y\n",
    "    def test(self):\n",
    "        print('this is class B')\n",
    "class C(B,A):\n",
    "            objA=A('a','b')\n",
    "            objB=B('x','y')\n",
    "            objA.test()\n",
    "            objB.test()\n",
    "\n",
    "    \n"
   ]
  },
  {
   "cell_type": "code",
   "execution_count": 124,
   "metadata": {},
   "outputs": [],
   "source": [
    "#multilevel inheritence\n",
    "class A:\n",
    "    def a(self):\n",
    "        return 'A'\n",
    "class B(A):\n",
    "    def  b(self):\n",
    "        return 'B'\n",
    "class C(B):\n",
    "    def  c(self):\n",
    "        return 'C'\n"
   ]
  },
  {
   "cell_type": "code",
   "execution_count": 129,
   "metadata": {},
   "outputs": [
    {
     "data": {
      "text/plain": [
       "'C'"
      ]
     },
     "execution_count": 129,
     "metadata": {},
     "output_type": "execute_result"
    }
   ],
   "source": [
    "data=C()\n",
    "data.a()\n",
    "data.b()\n",
    "data.c()"
   ]
  },
  {
   "cell_type": "code",
   "execution_count": 133,
   "metadata": {},
   "outputs": [
    {
     "data": {
      "text/plain": [
       "'A'"
      ]
     },
     "execution_count": 133,
     "metadata": {},
     "output_type": "execute_result"
    }
   ],
   "source": [
    "#overriding method-->parents and child has same body structure and signature\n",
    "class A:\n",
    "    def a(self,a,b):\n",
    "        return 'A'\n",
    "class B(A):\n",
    "    def  a(self,a,b):\n",
    "        return 'B'\n",
    "h=B()\n",
    "g=A()\n",
    "g.a(4,5)\n"
   ]
  },
  {
   "cell_type": "markdown",
   "metadata": {},
   "source": [
    "# Encapsulation"
   ]
  },
  {
   "cell_type": "code",
   "execution_count": 15,
   "metadata": {},
   "outputs": [],
   "source": [
    "#composition"
   ]
  },
  {
   "cell_type": "code",
   "execution_count": 14,
   "metadata": {},
   "outputs": [
    {
     "name": "stdout",
     "output_type": "stream",
     "text": [
      "Tyers: \n",
      " \tbranch:Naranpura\n",
      " \tbleted_bias:True\n",
      " \topt_pressure:2.0\n",
      "Engine: \n",
      " \t fuel_type:Petrol\n",
      " \tnoise_level:3\n",
      "Body: \n",
      " \tsize:Medium\n"
     ]
    }
   ],
   "source": [
    "class Tyers:\n",
    "    def __init__(self,branch,bleted_bias,opt_pressure):\n",
    "        self.branch=branch\n",
    "        self.bleted_bias=bleted_bias\n",
    "        self.opt_pressure=opt_pressure\n",
    "    def __str__(self):\n",
    "        return ('Tyers: \\n \\tbranch:'+(self.branch)+'\\n \\tbleted_bias:'+str(self.bleted_bias)+'\\n \\topt_pressure:'+str(self.opt_pressure))\n",
    "        \n",
    "class Engine:\n",
    "    def __init__(self,fuel_type,noise_level):\n",
    "        self.fuel_type=fuel_type\n",
    "        self.noise_level=noise_level\n",
    "    def __str__(self):\n",
    "        return ('Engine: \\n \\t fuel_type:'+(self.fuel_type)+'\\n \\tnoise_level:'+str(self.noise_level))\n",
    "        \n",
    "    \n",
    "class Body:\n",
    "    def __init__(self,size):\n",
    "        self.size=size\n",
    "    def __str__(self):\n",
    "        return ('Body: \\n \\tsize:'+(self.size))\n",
    "class Car:\n",
    "    def __init__(self,tyers,engine,body):\n",
    "                self.tyers=tyers\n",
    "                self.engine=engine\n",
    "                self.body=body\n",
    "    \n",
    "    def __str__(self):\n",
    "        return str(self.tyers)+'\\n'+str(self.engine)+'\\n'+str(self.body)\n",
    "\n",
    "t=Tyers('Naranpura',True,2.0)\n",
    "e=Engine('Petrol',3)\n",
    "b=Body('Medium')\n",
    "\n",
    "\n",
    "#print(t)    \n",
    "#print(e)\n",
    "#print(b)\n",
    "    \n",
    "c=Car(t,e,b) #in composition ...all the object of another classes is composed in another class\n",
    "    \n",
    "print(c)\n",
    "    "
   ]
  },
  {
   "cell_type": "code",
   "execution_count": 16,
   "metadata": {},
   "outputs": [],
   "source": [
    "#dynamic extend"
   ]
  },
  {
   "cell_type": "code",
   "execution_count": 19,
   "metadata": {},
   "outputs": [
    {
     "name": "stdout",
     "output_type": "stream",
     "text": [
      "name:vasu\n",
      "year:1998\n",
      "Breed:husky\n"
     ]
    }
   ],
   "source": [
    "class Dog:\n",
    "    def __init__(self,name,year_of_birth,breed):\n",
    "        self.name=name\n",
    "        self.year_of_birth=year_of_birth\n",
    "        self.breed=breed\n",
    "    def __str__(self):\n",
    "        return 'name:'+(self.name)+'\\n'+'year:'+str(self.year_of_birth)+'\\n'+'Breed:'+(self.breed)\n",
    "d=Dog('vasu',1998,'husky')\n"
   ]
  },
  {
   "cell_type": "code",
   "execution_count": 24,
   "metadata": {},
   "outputs": [
    {
     "name": "stdout",
     "output_type": "stream",
     "text": [
      "Raj\n",
      "student_id:1\n",
      "name:vasu\n",
      "year:1998\n",
      "Breed:husky\n",
      "student_id:2\n"
     ]
    }
   ],
   "source": [
    "class Student:\n",
    "        def __init__(self,anagraphic,student_id):\n",
    "                self.anagraphic=anagraphic\n",
    "                self.student_id=student_id\n",
    "        \n",
    "        def __str__(self):\n",
    "             return str(self.anagraphic)+'\\n'+'student_id:'+str(self.student_id)\n",
    "stu=Student('Raj',1)\n",
    "s=Student(d,2)\n",
    "print(stu)\n",
    "print(s)"
   ]
  },
  {
   "cell_type": "code",
   "execution_count": 39,
   "metadata": {},
   "outputs": [
    {
     "data": {
      "text/plain": [
       "'1 2 3 4 5 6 7 8 9'"
      ]
     },
     "execution_count": 39,
     "metadata": {},
     "output_type": "execute_result"
    }
   ],
   "source": [
    "class A:\n",
    "    def __init__(self,a1,a2,a3):\n",
    "        self.a1=a1\n",
    "        self.a2=a2\n",
    "        self.a3=a3\n",
    "    def m1(self):\n",
    "        return (self.a1)+' '+(self.a2)+' ' +(self.a3)\n",
    "    \n",
    "    \n",
    "class B:\n",
    "    \n",
    "    def __init__(self,b1,b2,b3):\n",
    "        self.b1=b1\n",
    "        self.b2=b2\n",
    "        self.b3=b3\n",
    "    def  m2(self):\n",
    "        return (self.b1)+' '+(self.b2)+' '+(self.b3)\n",
    "    \n",
    "    \n",
    "    \n",
    "class C :\n",
    "    \n",
    "    def __init__(self,c1,c2,c3):\n",
    "        self.c1=c1\n",
    "        self.c2=c2\n",
    "        self.c3=c3\n",
    "    def  m3(self):\n",
    "        return (self.c1)+' '+(self.c2)+' '+(self.c3)\n",
    "    \n",
    "    \n",
    "class D:\n",
    "   \n",
    "    def __init__(self,d1,d2,d3):\n",
    "        self.d1=d1\n",
    "        self.d2=d2\n",
    "        self.d3=d3\n",
    "    def  m4(self):\n",
    "        return (self.d1.m1())+' '+(self.d2.m2())+' ' +(self.d3.m3())\n",
    "    \n",
    "a=A('1','2','3')\n",
    "b=B('4','5','6')\n",
    "c=C('7','8','9')\n",
    "d=D(a,b,c)\n",
    "d.m4()\n",
    "\n"
   ]
  },
  {
   "cell_type": "code",
   "execution_count": 54,
   "metadata": {},
   "outputs": [
    {
     "name": "stdout",
     "output_type": "stream",
     "text": [
      "<__main__.C2 object at 0x0000018362D47508>\n"
     ]
    }
   ],
   "source": [
    "class C1:\n",
    "    def __init__(self,a):\n",
    "        self._a='Protected variable'\n",
    " \n",
    "    \n",
    "class C2(C1):\n",
    "    pass\n",
    "c2=C2(1)\n",
    "c2._a\n",
    "\n",
    "    "
   ]
  },
  {
   "cell_type": "code",
   "execution_count": 58,
   "metadata": {},
   "outputs": [
    {
     "name": "stdout",
     "output_type": "stream",
     "text": [
      "<__main__.C2 object at 0x0000018362D546C8>\n"
     ]
    },
    {
     "data": {
      "text/plain": [
       "'Private variable'"
      ]
     },
     "execution_count": 58,
     "metadata": {},
     "output_type": "execute_result"
    }
   ],
   "source": [
    "class C1:\n",
    "    def __init__(self,b):\n",
    "        self.__b='Private variable'\n",
    "    \n",
    "        \n",
    "    \n",
    "class C2(C1):\n",
    "    pass\n",
    "c2=C2(6)\n",
    "print(c2)\n",
    "c2._C1__b"
   ]
  },
  {
   "cell_type": "code",
   "execution_count": 100,
   "metadata": {},
   "outputs": [],
   "source": [
    "class class1:\n",
    "    def __init__(self,a,b,c):\n",
    "        self.a=a\n",
    "        self._b=b\n",
    "        self.__c=c\n",
    "    \n",
    "    def __str__(self):\n",
    "        return str(self.a)+str(self._b)+str(self.__c)\n",
    "obj=class1(5,6,7)     "
   ]
  },
  {
   "cell_type": "code",
   "execution_count": 101,
   "metadata": {},
   "outputs": [
    {
     "name": "stdout",
     "output_type": "stream",
     "text": [
      "13\n",
      "5678\n"
     ]
    }
   ],
   "source": [
    "class class2(class1):\n",
    "    def __init__(self,c,d):\n",
    "        self.c=c\n",
    "        self.d=d\n",
    "     \n",
    "    def __str__(self):\n",
    "        return str(self.c)+str(self.d)  \n",
    "cls=class2(1,3)\n",
    "print(cls)\n",
    "cls1=class2(obj,8)\n",
    "print(cls1)\n"
   ]
  },
  {
   "cell_type": "markdown",
   "metadata": {},
   "source": [
    "#### "
   ]
  },
  {
   "cell_type": "code",
   "execution_count": 106,
   "metadata": {},
   "outputs": [
    {
     "name": "stdout",
     "output_type": "stream",
     "text": [
      "457899\n"
     ]
    },
    {
     "data": {
      "text/plain": [
       "78"
      ]
     },
     "execution_count": 106,
     "metadata": {},
     "output_type": "execute_result"
    }
   ],
   "source": [
    "class class3(class1):\n",
    "    pass\n",
    "obj5=class3(45,78,99)\n",
    "print(obj5)\n",
    "obj5._b"
   ]
  },
  {
   "cell_type": "markdown",
   "metadata": {},
   "source": [
    "# Polymorphismm"
   ]
  },
  {
   "cell_type": "code",
   "execution_count": 107,
   "metadata": {},
   "outputs": [
    {
     "name": "stdout",
     "output_type": "stream",
     "text": [
      "3\n",
      "[1, 3] [4, 5]\n",
      "anc dfg\n"
     ]
    }
   ],
   "source": [
    "def sum(a,b):\n",
    "    return a+b\n",
    "print(sum(1,2))\n",
    "print([1,3],[4,5])\n",
    "print('anc','dfg')"
   ]
  },
  {
   "cell_type": "markdown",
   "metadata": {},
   "source": [
    "There is an Object Oriented Programming (OOP) principle called Single Responsibility Principle (SRP) and it states: \"A class should have one single responsibility\" or \"A class should have only one reason to change\". \n",
    "\n",
    "If you come across a class which doesn't follow the SRP principle, you should spilt it. You will be grateful to SRP during your software maintenance. "
   ]
  }
 ],
 "metadata": {
  "kernelspec": {
   "display_name": "Python 3",
   "language": "python",
   "name": "python3"
  },
  "language_info": {
   "codemirror_mode": {
    "name": "ipython",
    "version": 3
   },
   "file_extension": ".py",
   "mimetype": "text/x-python",
   "name": "python",
   "nbconvert_exporter": "python",
   "pygments_lexer": "ipython3",
   "version": "3.7.6"
  }
 },
 "nbformat": 4,
 "nbformat_minor": 4
}
