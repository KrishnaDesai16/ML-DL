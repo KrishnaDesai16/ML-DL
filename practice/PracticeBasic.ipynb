{
 "cells": [
  {
   "cell_type": "code",
   "execution_count": null,
   "metadata": {},
   "outputs": [],
   "source": [
    "# Practice-1"
   ]
  },
  {
   "cell_type": "markdown",
   "metadata": {},
   "source": [
    "### Write a Python program to sum all the items in a list."
   ]
  },
  {
   "cell_type": "code",
   "execution_count": null,
   "metadata": {},
   "outputs": [],
   "source": [
    "def checksum():\n",
    "    while True:\n",
    "        try:\n",
    "            list=[1,2,3,45]\n",
    "            for i in list:\n",
    "                if type(i)==str:\n",
    "                    continue\n",
    "            \n",
    "            sum=0\n",
    "            for i in list:\n",
    "                sum=sum+i\n",
    "            print(sum)\n",
    "            break\n",
    "        except:\n",
    "            print('error')\n",
    "            \n",
    "        "
   ]
  },
  {
   "cell_type": "code",
   "execution_count": null,
   "metadata": {},
   "outputs": [],
   "source": [
    "checksum()"
   ]
  },
  {
   "cell_type": "raw",
   "metadata": {},
   "source": [
    "Write a Python program to count the number of strings where the string length is 2 or\n",
    "# more and the first and last character are same from a given list of strings."
   ]
  },
  {
   "cell_type": "code",
   "execution_count": 8,
   "metadata": {},
   "outputs": [
    {
     "name": "stdout",
     "output_type": "stream",
     "text": [
      "ava\n",
      "asdfgsrjmna\n"
     ]
    }
   ],
   "source": [
    "l=['ava','we','krishna','asdfgsrjmna']\n",
    "try:\n",
    "        for i in l:\n",
    "            if (len(i)!=2) and i[0]==i[len(i)-1]:\n",
    "                print(''.join(i))\n",
    "                \n",
    "except:\n",
    "        print('error')"
   ]
  },
  {
   "cell_type": "raw",
   "metadata": {},
   "source": [
    "Write a Python program to check if all dictionaries in a list are empty or not."
   ]
  },
  {
   "cell_type": "code",
   "execution_count": 20,
   "metadata": {},
   "outputs": [
    {
     "data": {
      "text/plain": [
       "False"
      ]
     },
     "execution_count": 20,
     "metadata": {},
     "output_type": "execute_result"
    }
   ],
   "source": [
    "s=[{},{},{}]\n",
    "res=all(not d for d in s)\n",
    "d=[{1,45},{},{}]\n",
    "res1=all(not i for i in d) \n",
    "res1"
   ]
  },
  {
   "cell_type": "raw",
   "metadata": {},
   "source": [
    "Write a Python program to remove duplicates from a list of lists."
   ]
  },
  {
   "cell_type": "code",
   "execution_count": 49,
   "metadata": {},
   "outputs": [
    {
     "data": {
      "text/plain": [
       "[[110, 120], [133, 240], [240], [310, 220], [330, 456, 425]]"
      ]
     },
     "execution_count": 49,
     "metadata": {},
     "output_type": "execute_result"
    }
   ],
   "source": [
    "num = [[110, 120], [240], [330, 456, 425], [310, 220], [133,240], [240]]\n",
    "num.sort()\n",
    "from itertools import groupby\n",
    "r=[k for k,_ in groupby(num)]\n",
    "   \n",
    "r\n",
    "    "
   ]
  },
  {
   "cell_type": "raw",
   "metadata": {},
   "source": [
    "Write a Python program to extend a list without append"
   ]
  },
  {
   "cell_type": "code",
   "execution_count": 64,
   "metadata": {},
   "outputs": [
    {
     "data": {
      "text/plain": [
       "[1, 2, 3, 7, 8, 9]"
      ]
     },
     "execution_count": 64,
     "metadata": {},
     "output_type": "execute_result"
    }
   ],
   "source": [
    "x=[1,2,3,4]\n",
    "y=[7,8,9]\n",
    "x[-1:]=y\n",
    "x\n"
   ]
  },
  {
   "cell_type": "raw",
   "metadata": {},
   "source": [
    "Write a Python program to find the list in a list of lists whose sum of elements is th\n",
    "e highest\n"
   ]
  },
  {
   "cell_type": "code",
   "execution_count": 2,
   "metadata": {},
   "outputs": [
    {
     "name": "stdout",
     "output_type": "stream",
     "text": [
      "[10, 11, 12]\n"
     ]
    }
   ],
   "source": [
    "num = [[1,2,3], [4,5,6], [10,11,12], [7,8,9]]\n",
    "print(max(num, key=sum))\n",
    "    "
   ]
  },
  {
   "cell_type": "raw",
   "metadata": {},
   "source": [
    "#Write a Python program to access dictionary key’s element by index"
   ]
  },
  {
   "cell_type": "code",
   "execution_count": 5,
   "metadata": {},
   "outputs": [
    {
     "data": {
      "text/plain": [
       "'krishna'"
      ]
     },
     "execution_count": 5,
     "metadata": {},
     "output_type": "execute_result"
    }
   ],
   "source": [
    "dictt={'krishna':1,'kavisha':2,'stat':6}\n",
    "list(dictt)[0]"
   ]
  },
  {
   "cell_type": "raw",
   "metadata": {},
   "source": [
    "\n",
    "#Write a Python program to iterate over two lists simultaneously"
   ]
  },
  {
   "cell_type": "code",
   "execution_count": 10,
   "metadata": {},
   "outputs": [
    {
     "name": "stdout",
     "output_type": "stream",
     "text": [
      "1 7\n",
      "2 8\n",
      "3 9\n",
      "4 10\n"
     ]
    }
   ],
   "source": [
    "l1=[1,2,3,4,5]\n",
    "l2=[7,8,9,10]\n",
    "for (a,b) in zip(l1,l2):\n",
    "         print(a,b)"
   ]
  },
  {
   "cell_type": "raw",
   "metadata": {},
   "source": [
    "#write a program to inser a string at the begining of every elements in a list"
   ]
  },
  {
   "cell_type": "code",
   "execution_count": 13,
   "metadata": {},
   "outputs": [
    {
     "name": "stdout",
     "output_type": "stream",
     "text": [
      "['customer1', 'customer2', 'customer3', 'customer4', 'customer5']\n"
     ]
    }
   ],
   "source": [
    "s=[1,2,3,4,5]\n",
    "\n",
    "print(['customer{}'.format(i) for i in s])"
   ]
  },
  {
   "cell_type": "raw",
   "metadata": {},
   "source": [
    " write a program to take two lists and print if they have at least one common member"
   ]
  },
  {
   "cell_type": "code",
   "execution_count": 40,
   "metadata": {},
   "outputs": [],
   "source": [
    "def fun(l1,l2):\n",
    "    res=False\n",
    "    for x in l1:\n",
    "        for y in l2:\n",
    "            if x==y:\n",
    "                res=True\n",
    "                return res\n",
    "        \n",
    "            \n",
    "        \n",
    "        "
   ]
  },
  {
   "cell_type": "code",
   "execution_count": 49,
   "metadata": {},
   "outputs": [
    {
     "name": "stdout",
     "output_type": "stream",
     "text": [
      "True\n",
      "None\n"
     ]
    }
   ],
   "source": [
    "print(fun([121,222,332,432,125], [125,236,457,678,779]))\n",
    "print(fun([1,2,3,4,5], [6,7,8,9]))"
   ]
  },
  {
   "cell_type": "raw",
   "metadata": {},
   "source": [
    "compute all permutations in a list"
   ]
  },
  {
   "cell_type": "code",
   "execution_count": 50,
   "metadata": {},
   "outputs": [
    {
     "data": {
      "text/plain": [
       "[(12, 34, 67),\n",
       " (12, 67, 34),\n",
       " (34, 12, 67),\n",
       " (34, 67, 12),\n",
       " (67, 12, 34),\n",
       " (67, 34, 12)]"
      ]
     },
     "execution_count": 50,
     "metadata": {},
     "output_type": "execute_result"
    }
   ],
   "source": [
    "l=[12,34,67]\n",
    "import itertools\n",
    "list(itertools.permutations(l))"
   ]
  },
  {
   "cell_type": "raw",
   "metadata": {},
   "source": [
    "create a dictionary\n",
    "dict1 = {'data': '123',\n",
    "'science':'234',\n",
    "'AI': '235'}\n",
    "# write a program to sort a dictionary by "
   ]
  },
  {
   "cell_type": "code",
   "execution_count": 61,
   "metadata": {},
   "outputs": [
    {
     "data": {
      "text/plain": [
       "[('data', 123), ('science', 234), ('AI', 235)]"
      ]
     },
     "execution_count": 61,
     "metadata": {},
     "output_type": "execute_result"
    }
   ],
   "source": [
    "dict1 = {'data': 123,\n",
    "'science':234,\n",
    "'AI': 235}\n",
    "sorted(dict1.items(),key=lambda x:x[1])"
   ]
  },
  {
   "cell_type": "code",
   "execution_count": 62,
   "metadata": {},
   "outputs": [
    {
     "data": {
      "text/plain": [
       "dict_items([('data', 123), ('science', 234), ('AI', 235)])"
      ]
     },
     "execution_count": 62,
     "metadata": {},
     "output_type": "execute_result"
    }
   ],
   "source": [
    "dict1.items()"
   ]
  },
  {
   "cell_type": "markdown",
   "metadata": {},
   "source": [
    "#Write a Python program to get a dictionary from an object's fields."
   ]
  },
  {
   "cell_type": "code",
   "execution_count": null,
   "metadata": {},
   "outputs": [],
   "source": [
    "class get:\n",
    "    "
   ]
  },
  {
   "cell_type": "code",
   "execution_count": null,
   "metadata": {},
   "outputs": [],
   "source": []
  }
 ],
 "metadata": {
  "kernelspec": {
   "display_name": "Python 3",
   "language": "python",
   "name": "python3"
  },
  "language_info": {
   "codemirror_mode": {
    "name": "ipython",
    "version": 3
   },
   "file_extension": ".py",
   "mimetype": "text/x-python",
   "name": "python",
   "nbconvert_exporter": "python",
   "pygments_lexer": "ipython3",
   "version": "3.7.6"
  }
 },
 "nbformat": 4,
 "nbformat_minor": 4
}
