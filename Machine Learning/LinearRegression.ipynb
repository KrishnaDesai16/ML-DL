{
 "cells": [
  {
   "cell_type": "markdown",
   "metadata": {},
   "source": [
    "## LinearRegression"
   ]
  },
  {
   "cell_type": "markdown",
   "metadata": {},
   "source": [
    "- LinearRegression is one of the fundamental algorithm\n",
    "- it is used to find the relationship between independent features and dependent features\n",
    "- it shows the extent of the impact of multiple features and dependent features\n",
    "- LinearRegression,fit the line/curve to the datapoints in such a manner that the difference between datapoints to curve line is minimal.\n",
    "-                                           Y=a+b*X + e \n",
    "\n",
    "  Where,\n",
    "- a is the intercept, \n",
    "- b is the slope of the line,  and e is the error term. \n",
    "- The equation above is used to predict the value of the target variable based on the given predictor variable(s).\n",
    "\n"
   ]
  },
  {
   "cell_type": "code",
   "execution_count": null,
   "metadata": {},
   "outputs": [],
   "source": []
  }
 ],
 "metadata": {
  "kernelspec": {
   "display_name": "Python 3",
   "language": "python",
   "name": "python3"
  },
  "language_info": {
   "codemirror_mode": {
    "name": "ipython",
    "version": 3
   },
   "file_extension": ".py",
   "mimetype": "text/x-python",
   "name": "python",
   "nbconvert_exporter": "python",
   "pygments_lexer": "ipython3",
   "version": "3.8.5"
  }
 },
 "nbformat": 4,
 "nbformat_minor": 4
}
