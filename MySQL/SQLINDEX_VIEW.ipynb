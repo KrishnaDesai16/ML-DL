{
 "cells": [
  {
   "cell_type": "code",
   "execution_count": 2,
   "metadata": {},
   "outputs": [],
   "source": [
    "import mysql.connector as connection"
   ]
  },
  {
   "cell_type": "code",
   "execution_count": 26,
   "metadata": {},
   "outputs": [
    {
     "name": "stdout",
     "output_type": "stream",
     "text": [
      "True\n",
      "done!!\n"
     ]
    }
   ],
   "source": [
    "try:\n",
    "    mydb = connection.connect(host=\"localhost\", database = 'customer',user=\"root\", passwd=\"9105kdkd\",use_pure=True)\n",
    "    # check if the connection is established\n",
    "    print(mydb.is_connected())\n",
    "\n",
    "\n",
    "    query = \" CREATE INDEX idx_pname\\\n",
    "              ON orders (OrderDate);\"\n",
    " \n",
    "    d1='ALTER TABLE orders\\\n",
    "       DROP INDEX idx_pname'\n",
    "    \n",
    "\n",
    "    cursor = mydb.cursor() \n",
    "    cursor.execute(d1)\n",
    "    print('done!!')\n",
    "   \n",
    "    mydb.close()\n",
    "except Exception as e:\n",
    "    mydb.close()\n",
    "    print(str(e))"
   ]
  },
  {
   "cell_type": "code",
   "execution_count": null,
   "metadata": {},
   "outputs": [],
   "source": [
    "CREATE INDEX idx_pname\n",
    "ON Persons (LastName, FirstName);"
   ]
  },
  {
   "cell_type": "code",
   "execution_count": null,
   "metadata": {},
   "outputs": [],
   "source": [
    "ALTER TABLE table_name\n",
    "DROP INDEX index_name;\n"
   ]
  },
  {
   "cell_type": "code",
   "execution_count": null,
   "metadata": {},
   "outputs": [],
   "source": []
  },
  {
   "cell_type": "code",
   "execution_count": 27,
   "metadata": {},
   "outputs": [
    {
     "name": "stdout",
     "output_type": "stream",
     "text": [
      "True\n",
      "done!!\n"
     ]
    }
   ],
   "source": [
    "try:\n",
    "    mydb = connection.connect(host=\"localhost\", database = 'customer',user=\"root\", passwd=\"9105kdkd\",use_pure=True)\n",
    "    # check if the connection is established\n",
    "    print(mydb.is_connected())\n",
    "\n",
    "    c1='Create view minitab AS\\\n",
    "         SELECT FirstName ,LastName From customerdetails'\n",
    "\n",
    "    cursor = mydb.cursor() \n",
    "    cursor.execute(c1)\n",
    "    print('done!!')\n",
    "   \n",
    "    mydb.close()\n",
    "except Exception as e:\n",
    "    mydb.close()\n",
    "    print(str(e))"
   ]
  },
  {
   "cell_type": "code",
   "execution_count": null,
   "metadata": {},
   "outputs": [],
   "source": []
  },
  {
   "cell_type": "code",
   "execution_count": null,
   "metadata": {},
   "outputs": [],
   "source": []
  },
  {
   "cell_type": "code",
   "execution_count": null,
   "metadata": {},
   "outputs": [],
   "source": []
  },
  {
   "cell_type": "code",
   "execution_count": null,
   "metadata": {},
   "outputs": [],
   "source": []
  }
 ],
 "metadata": {
  "kernelspec": {
   "display_name": "Python 3",
   "language": "python",
   "name": "python3"
  },
  "language_info": {
   "codemirror_mode": {
    "name": "ipython",
    "version": 3
   },
   "file_extension": ".py",
   "mimetype": "text/x-python",
   "name": "python",
   "nbconvert_exporter": "python",
   "pygments_lexer": "ipython3",
   "version": "3.7.6"
  }
 },
 "nbformat": 4,
 "nbformat_minor": 4
}
