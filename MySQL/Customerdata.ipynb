{
 "cells": [
  {
   "cell_type": "code",
   "execution_count": 3,
   "metadata": {},
   "outputs": [
    {
     "name": "stdout",
     "output_type": "stream",
     "text": [
      "True\n",
      "Database Created !!\n"
     ]
    }
   ],
   "source": [
    "import mysql.connector as connection\n",
    "try:\n",
    "    mydb=connection.connect(host='localhost',user='root',password='9105kdkd',use_pure=True)\n",
    "    #check connection\n",
    "    print(mydb.is_connected())\n",
    "    \n",
    "    #create databse\n",
    "    query='CREATE database Customer;'\n",
    "    \n",
    "    cursor=mydb.cursor()\n",
    "    cursor.execute(query)\n",
    "    print('Database Created !!')\n",
    "    mydb.close()\n",
    "    \n",
    "except Exception as e:\n",
    "    mydb.close()\n",
    "    print(str(e))\n",
    "    \n",
    "    \n",
    "    \n",
    "    \n"
   ]
  },
  {
   "cell_type": "code",
   "execution_count": 6,
   "metadata": {},
   "outputs": [
    {
     "name": "stdout",
     "output_type": "stream",
     "text": [
      "True\n",
      "Table Created !!\n"
     ]
    }
   ],
   "source": [
    "#Create Table\n",
    "try:\n",
    "    mydb=connection.connect(host='localhost',user='root',password='9105kdkd',use_pure=True,database='Customer')\n",
    "    #check connection\n",
    "    print(mydb.is_connected())\n",
    "    \n",
    "    query='CREATE TABLE CustomerDetails (CutomerID INT(10) AUTO_INCREMENT PRIMARY KEY,StoreID INT ,FirstName VARCHAR(60),LastName VARCHAR(60),AddressID INT,active INT (1) ,CreateDate DATE,UpdateDate DATE)'\n",
    "    \n",
    "    cursor=mydb.cursor()\n",
    "    cursor.execute(query)\n",
    "    print('Table Created !!')\n",
    "    mydb.close()\n",
    "\n",
    "except Exception as e:\n",
    "    mydb.close()\n",
    "    print(str(e))\n",
    "    \n",
    "    \n",
    "    \n",
    "    "
   ]
  },
  {
   "cell_type": "code",
   "execution_count": 28,
   "metadata": {},
   "outputs": [
    {
     "name": "stdout",
     "output_type": "stream",
     "text": [
      "True\n",
      "data inserted!!\n"
     ]
    }
   ],
   "source": [
    "#Inert values into table\n",
    "\n",
    "try:\n",
    "    mydb=connection.connect(host='localhost',user='root',password='9105kdkd',use_pure=True,database='Customer')\n",
    "    #check connection\n",
    "    print(mydb.is_connected())\n",
    "    \n",
    "    query='INSERT INTO CustomerDetails  VALUES (1,1,\"Krishna\",\"Desai\",5,1,\"2006-04-14\",\"2019-02-12\")'\n",
    "    \n",
    "    cursor=mydb.cursor()\n",
    "    cursor.execute(query)\n",
    "    print('data inserted!!')\n",
    "    mydb.commit()\n",
    "    mydb.close()\n",
    "    \n",
    "\n",
    "except Exception as e:\n",
    "    mydb.close()\n",
    "    print(str(e))\n",
    "    "
   ]
  },
  {
   "cell_type": "code",
   "execution_count": 26,
   "metadata": {},
   "outputs": [
    {
     "name": "stdout",
     "output_type": "stream",
     "text": [
      "True\n",
      "1062 (23000): Duplicate entry '2' for key 'customerdetails.PRIMARY'\n"
     ]
    }
   ],
   "source": [
    "try:\n",
    "    mydb=connection.connect(host='localhost',user='root',password='9105kdkd',use_pure=True,database='Customer')\n",
    "    #check connection\n",
    "    print(mydb.is_connected())\n",
    "    mySql_insert_query = \"insert into CustomerDetails (CutomerID,StoreID ,FirstName,LastName,AddressID,active,CreateDate,UpdateDate) VALUES (%s, %s, %s, %s,%s, %s, %s, %s)\"\n",
    "\n",
    "    records_to_insert = [(2,2,\"Rupa\",\"Patel\",3,0,\"2003-04-14\",\"2018-02-12\"),\n",
    "                         (3,1,\"Raj\",\"Patel\",3,0,\"2003-04-14\",\"2018-02-12\"),\n",
    "                         (4,3,\"abhi\",\"Patel\",3,0,\"2003-04-14\",\"2018-02-12\"),\n",
    "                         (5,1,\"papal\",\"Patel\",3,0,\"2003-04-14\",\"2018-02-12\"),\n",
    "                         (6,2,\"Raju\",\"Patel\",3,0,\"2003-04-14\",\"2018-02-12\")]\n",
    "\n",
    "    cursor = mydb.cursor()\n",
    "    cursor.executemany(mySql_insert_query, records_to_insert)\n",
    "    mydb.commit()\n",
    "    print(cursor.rowcount, \"Record inserted successfully into  table\")\n",
    "except Exception as e:\n",
    "    mydb.close()\n",
    "    print(str(e))\n",
    "    \n",
    "\n",
    "    \n"
   ]
  },
  {
   "cell_type": "code",
   "execution_count": 27,
   "metadata": {},
   "outputs": [
    {
     "name": "stdout",
     "output_type": "stream",
     "text": [
      "True\n",
      "5 Record inserted successfully into  table\n"
     ]
    }
   ],
   "source": [
    "try:\n",
    "    mydb=connection.connect(host='localhost',user='root',password='9105kdkd',use_pure=True,database='Customer')\n",
    "    #check connection\n",
    "    print(mydb.is_connected())\n",
    "    mySql_insert_query = \"insert into CustomerDetails (CutomerID,StoreID ,FirstName,LastName,AddressID,active,CreateDate,UpdateDate) VALUES (%s, %s, %s, %s,%s, %s, %s, %s)\"\n",
    "\n",
    "    records_to_insert = [(7,2,\"hemal\",\"shikh\",3,0,\"2004-04-14\",\"2018-02-12\"),\n",
    "                         (8,1,\"sita\",\"modi\",3,0,\"2005-04-12\",\"2019-02-12\"),\n",
    "                         (9,3,\"zeel\",\"ghoda\",3,0,\"2006-02-11\",\"2020-02-12\"),\n",
    "                         (10,1,\"poja\",\"shah\",3,0,\"2008-10-10\",\"2015-02-12\"),\n",
    "                         (11,2,\"rahul\",\"sisodia\",3,0,\"2003-03-09\",\"2013-02-12\")]\n",
    "\n",
    "    cursor = mydb.cursor()\n",
    "    cursor.executemany(mySql_insert_query, records_to_insert)\n",
    "    mydb.commit()\n",
    "    print(cursor.rowcount, \"Record inserted successfully into  table\")\n",
    "except Exception as e:\n",
    "    mydb.close()\n",
    "    print(str(e))"
   ]
  },
  {
   "cell_type": "code",
   "execution_count": null,
   "metadata": {},
   "outputs": [],
   "source": []
  }
 ],
 "metadata": {
  "kernelspec": {
   "display_name": "Python 3",
   "language": "python",
   "name": "python3"
  },
  "language_info": {
   "codemirror_mode": {
    "name": "ipython",
    "version": 3
   },
   "file_extension": ".py",
   "mimetype": "text/x-python",
   "name": "python",
   "nbconvert_exporter": "python",
   "pygments_lexer": "ipython3",
   "version": "3.7.6"
  }
 },
 "nbformat": 4,
 "nbformat_minor": 4
}
