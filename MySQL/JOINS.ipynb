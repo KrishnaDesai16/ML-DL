{
 "cells": [
  {
   "cell_type": "markdown",
   "metadata": {},
   "source": [
    "# Joins"
   ]
  },
  {
   "cell_type": "code",
   "execution_count": 1,
   "metadata": {},
   "outputs": [],
   "source": [
    "import mysql.connector as connection"
   ]
  },
  {
   "cell_type": "code",
   "execution_count": 21,
   "metadata": {},
   "outputs": [
    {
     "name": "stdout",
     "output_type": "stream",
     "text": [
      "True\n",
      "(1, 1, 'Krishna', 'Desai', 5, 1, datetime.date(2006, 4, 14), datetime.date(2019, 2, 12), 1000, 1, 101, datetime.date(2019, 1, 11), 11)\n",
      "(2, 2, 'Rupa', 'Patel', 3, 0, datetime.date(2003, 4, 14), datetime.date(2018, 2, 12), 1001, 2, 102, datetime.date(2019, 2, 27), 4)\n",
      "(3, 1, 'Raj', 'Patel', 3, 0, datetime.date(2003, 4, 14), datetime.date(2018, 2, 12), 1009, 3, 103, datetime.date(2013, 7, 23), 3)\n",
      "(4, 3, 'abhi', 'Patel', 3, 0, datetime.date(2003, 4, 14), datetime.date(2018, 2, 12), 1111, 4, 104, datetime.date(2019, 7, 23), 11)\n",
      "(5, 1, 'papal', 'Patel', 3, 0, datetime.date(2003, 4, 14), datetime.date(2018, 2, 12), 1160, 5, 105, datetime.date(2019, 7, 23), 30)\n",
      "(6, 2, 'Raju', 'Patel', 3, 0, datetime.date(2003, 4, 14), datetime.date(2018, 2, 12), None, None, None, None, None)\n",
      "(7, 2, 'hemal', 'shikh', 3, 0, datetime.date(2004, 4, 14), datetime.date(2018, 2, 12), None, None, None, None, None)\n",
      "(8, 1, 'sita', 'modi', 3, 0, datetime.date(2005, 4, 12), datetime.date(2019, 2, 12), None, None, None, None, None)\n",
      "(9, 3, 'zeel', 'ghoda', 3, 0, datetime.date(2006, 2, 11), datetime.date(2020, 2, 12), None, None, None, None, None)\n",
      "(10, 1, 'poja', 'shah', 3, 0, datetime.date(2008, 10, 10), datetime.date(2015, 2, 12), None, None, None, None, None)\n",
      "(11, 2, 'rahul', 'sisodia', 3, 0, datetime.date(2003, 3, 9), datetime.date(2013, 2, 12), None, None, None, None, None)\n",
      "(12, 2, 'Viranchi', 'Bhatt', 67, 0, datetime.date(2019, 1, 11), datetime.date(2020, 1, 11), None, None, None, None, None)\n",
      "(13, 3, 'Pariskesh', 'Raval', 12, 1, datetime.date(2019, 2, 27), datetime.date(2019, 7, 4), None, None, None, None, None)\n",
      "(14, 1, 'Demon', 'bond', 23, 0, datetime.date(2013, 7, 23), datetime.date(2015, 9, 30), None, None, None, None, None)\n",
      "(15, 2, 'Stefan', 'salvoretian', 78, 1, datetime.date(2019, 7, 23), None, None, None, None, None, None)\n",
      "(16, 2, 'Alena', 'Gelbert', 33, 0, datetime.date(2019, 7, 23), datetime.date(2015, 9, 30), None, None, None, None, None)\n"
     ]
    }
   ],
   "source": [
    "try:\n",
    "    mydb = connection.connect(host=\"localhost\", database = 'customer',user=\"root\", passwd=\"9105kdkd\",use_pure=True)\n",
    "    # check if the connection is established\n",
    "    print(mydb.is_connected())\n",
    "    #inner join\n",
    "    sql = \"SELECT \\\n",
    "         CustomerDetails.FirstName, \\\n",
    "         orders.OrderID  \\\n",
    "         FROM  CustomerDetails\\\n",
    "         INNER JOIN  Orders ON CustomerDetails.CutomerID= orders.CustomerID\"\n",
    "    #left join\n",
    "    sql1=\"SELECT \\\n",
    "         CustomerDetails.FirstName, CustomerDetails.LastName, CustomerDetails.AddressID ,\\\n",
    "         orders.OrderID,orders.ShipperID  \\\n",
    "         FROM  CustomerDetails\\\n",
    "         LEFT JOIN  Orders ON CustomerDetails.CutomerID= orders.CustomerID\"\n",
    "    #right join\n",
    "    sql2= \"SELECT \\\n",
    "         CustomerDetails.FirstName, CustomerDetails.LastName, CustomerDetails.AddressID ,\\\n",
    "         orders.OrderID,orders.ShipperID  \\\n",
    "         FROM  CustomerDetails\\\n",
    "         RIGHT JOIN  Orders ON CustomerDetails.CutomerID= orders.CustomerID\"\n",
    "    #full outer\n",
    "    sql3= \"SELECT * FROM CustomerDetails \\\n",
    "           LEFT JOIN orders  ON CustomerDetails.CutomerID= orders.CustomerID\\\n",
    "           UNION\\\n",
    "          SELECT * FROM CustomerDetails \\\n",
    "           RIGHT JOIN orders  ON CustomerDetails.CutomerID= orders.CustomerID\"\n",
    "    \n",
    "  \n",
    "\n",
    "    cursor = mydb.cursor()\n",
    "    cursor.execute(sql3)\n",
    "    for res in cursor.fetchall():\n",
    "        print(res)\n",
    "    \n",
    "    \n",
    "    mydb.close()\n",
    "except Exception as e:\n",
    "    mydb.close()\n",
    "    print(str(e))"
   ]
  },
  {
   "cell_type": "code",
   "execution_count": null,
   "metadata": {},
   "outputs": [],
   "source": []
  },
  {
   "cell_type": "code",
   "execution_count": null,
   "metadata": {},
   "outputs": [],
   "source": []
  }
 ],
 "metadata": {
  "kernelspec": {
   "display_name": "Python 3",
   "language": "python",
   "name": "python3"
  },
  "language_info": {
   "codemirror_mode": {
    "name": "ipython",
    "version": 3
   },
   "file_extension": ".py",
   "mimetype": "text/x-python",
   "name": "python",
   "nbconvert_exporter": "python",
   "pygments_lexer": "ipython3",
   "version": "3.7.6"
  }
 },
 "nbformat": 4,
 "nbformat_minor": 4
}
