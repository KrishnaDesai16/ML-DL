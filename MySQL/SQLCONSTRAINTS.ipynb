{
 "cells": [
  {
   "cell_type": "raw",
   "metadata": {},
   "source": [
    "CONSTRAINTS  \tDESCRIPTION\n",
    "Not Null\t It Ensures that a column cannot have a NULL value.\n",
    "Unique\t     It Ensures that all the values in a column are unique.\n",
    "PrimaryKey\t It is a combination of a NOT NULL and UNIQUE. Uniquely identifies each row in a table.\n",
    "Foreign Key\t Uniquely identifies a record /row in another table\n",
    "Check\t     It checks that all values in a column satisfy a specific condition\n",
    "Default\t     It gives a default value for a column when no value is specified\n",
    "Index\t     It is Used to create and retrieve data from the database quickly.\n"
   ]
  },
  {
   "cell_type": "code",
   "execution_count": 1,
   "metadata": {},
   "outputs": [],
   "source": [
    "import mysql.connector as connection"
   ]
  },
  {
   "cell_type": "code",
   "execution_count": 28,
   "metadata": {},
   "outputs": [
    {
     "name": "stdout",
     "output_type": "stream",
     "text": [
      "True\n",
      "1824 (HY000): Failed to open the referenced table 'company'\n"
     ]
    }
   ],
   "source": [
    "try:\n",
    "    mydb = connection.connect(host=\"localhost\", database = 'customer',user=\"root\", passwd=\"9105kdkd\",use_pure=True)\n",
    "    # check if the connection is established\n",
    "    print(mydb.is_connected())\n",
    "\n",
    "#NOT NULL\n",
    "    query = \" CREATE TABLE mytest (agent_name varchar(6) NOT NULL,\\\n",
    "               agent_code varchar(10) NOT NULL, agent_working varchar(27) NOT NULL)\"\n",
    "#UNIQUE\n",
    "#Check\n",
    "#Default\n",
    "#not null\n",
    "    query1='CREATE TABLE mytest1(std_name varchar(34) NOT NULL,\\\n",
    "           stu_code INT NOT NULL UNIQUE,\\\n",
    "           Grade char(2) NOT NULL, \\\n",
    "           working_area  char(10) DEFAULT \"Mumbai\",\\\n",
    "           commission decimal(8,2) CHECK (commission>.1 AND commission<.3))'\n",
    "    query2=\"CREATE TABLE mytest9(agent_ID INT(5) NOT NULL,\\\n",
    "             agent_name VARCHAR(10),\\\n",
    "             Working_area VARCHAR(10) CHECK(Working_area IN('London','Brisban','Chennai','Mumbai')) DEFAULT 'Jaipur',\\\n",
    "              commission decimal CHECK(commission<1),\\\n",
    "             ord_date char(10) NOT NULL CHECK(ord_date LIKE '--/--/----' ))\"\n",
    "    dd=\"CREATE TABLE mytest10 (\\\n",
    "          agent_code char(6) NOT NULL UNIQUE ,\\\n",
    "agent_name char(25) NOT NULL UNIQUE ,\\\n",
    "working_area char(25) ,\\\n",
    "commission decimal(8,2) ,\\\n",
    "CHECK((commission<.14 AND working_area='London')\\\n",
    "OR (commission<.15 AND working_area='Mumbai')\\\n",
    "OR (commission<.13 AND working_area='New York')))\"; \n",
    "    ff=\"CREATE TABLE mytest11(\\\n",
    "tranno decimal NOT NULL,\\\n",
    "company_id varchar(6),\\\n",
    "itemcode varchar(10),\\\n",
    "coname varchar(35),\\\n",
    "itemname varchar(35),\\\n",
    "iqty integer,\\\n",
    "PRIMARY KEY(itemcode),\\\n",
    "FOREIGN KEY(company_id)\\\n",
    "REFERENCES company (company_id)\\\n",
    "ON DELETE CASCADE);\"\n",
    "    \n",
    "   \n",
    "    cursor = mydb.cursor() #create a cursor to execute queries\n",
    "    cursor.execute(ff)\n",
    "    print('done!!')\n",
    "   \n",
    "    mydb.close()\n",
    "except Exception as e:\n",
    "    mydb.close()\n",
    "    print(str(e))"
   ]
  },
  {
   "cell_type": "code",
   "execution_count": null,
   "metadata": {},
   "outputs": [],
   "source": [
    "''' ff=\"CREATE TABLE mytest11(\\\n",
    "tranno decimal NOT NULL,\\\n",
    "company_id varchar(6),\\\n",
    "itemcode varchar(10),\\\n",
    "coname varchar(35),\\\n",
    "itemname varchar(35),\\\n",
    "iqty integer,\\\n",
    "PRIMARY KEY(itemcode),\\\n",
    "FOREIGN KEY(company_id)\\\n",
    "REFERENCES company (company_id)\\\n",
    "ON DELETE CASCADE);\"'''\n",
    "    "
   ]
  },
  {
   "cell_type": "code",
   "execution_count": 43,
   "metadata": {},
   "outputs": [
    {
     "name": "stdout",
     "output_type": "stream",
     "text": [
      "True\n",
      "done!!\n"
     ]
    }
   ],
   "source": [
    "try:\n",
    "    mydb = connection.connect(host=\"localhost\", database = 'customer',user=\"root\", passwd=\"9105kdkd\",use_pure=True)\n",
    "    # check if the connection is established\n",
    "    print(mydb.is_connected())\n",
    "\n",
    "#NOT NULL\n",
    "    query = \" CREATE TABLE student1(stu_name varchar(10) NOT NULL,age int )\"\n",
    "    q1='ALTER TABLE student1 MODIFY age int NOT NULL'\n",
    "    q2='ALTER TABLE student1 MODIFY age int UNIQUE ;'\n",
    "    q3='ALTER TABLE student1 ADD fname varchar(10) NOT NULL'\n",
    "    q4='ALTER TABLE student1 ADD lname varchar(10) NOT NULL UNIQUE'\n",
    "    q5='ALTER TABLE student1 ADD CONSTRAINT UC_student1 UNIQUE (age)';\n",
    "    q6='ALTER TABLE student1  DROP INDEX UC_student1;'\n",
    "    \n",
    "\n",
    "\n",
    "    \n",
    "\n",
    "    cursor = mydb.cursor() \n",
    "    cursor.execute(q6)\n",
    "    print('done!!')\n",
    "   \n",
    "    mydb.close()\n",
    "except Exception as e:\n",
    "    mydb.close()\n",
    "    print(str(e))"
   ]
  },
  {
   "cell_type": "code",
   "execution_count": 48,
   "metadata": {},
   "outputs": [
    {
     "name": "stdout",
     "output_type": "stream",
     "text": [
      "True\n",
      "done!!\n"
     ]
    }
   ],
   "source": [
    "try:\n",
    "    mydb = connection.connect(host=\"localhost\", database = 'customer',user=\"root\", passwd=\"9105kdkd\",use_pure=True)\n",
    "    # check if the connection is established\n",
    "    print(mydb.is_connected())\n",
    "\n",
    "#NOT NULL\n",
    "  \n",
    "    query ='CREATE TABLE person(ID int NOT NULL, last_name varchar(255) NOT NULL, first_name varchar(255), age int, PRIMARY KEY(ID));'\n",
    "    query1=\"CREATE TABLE person1 ( id int NOT NULL,\\\n",
    "            last_name varchar(255) NOT NULL,\\\n",
    "            first_name varchar(255),\\\n",
    "            age int,\\\n",
    "            CONSTRAINT PK_person PRIMARY KEY (id,last_name))\" \n",
    "\n",
    "    cursor = mydb.cursor() \n",
    "    cursor.execute(query1)\n",
    "    print('done!!')\n",
    "   \n",
    "    mydb.close()\n",
    "except Exception as e:\n",
    "    mydb.close()\n",
    "    print(str(e))"
   ]
  },
  {
   "cell_type": "raw",
   "metadata": {},
   "source": [
    "\n",
    "\n",
    "#single fkey\n",
    "CREATE TABLE Orders (\n",
    "    OrderID int NOT NULL,\n",
    "    OrderNumber int NOT NULL,\n",
    "    PersonID int,\n",
    "    PRIMARY KEY (OrderID),\n",
    "    FOREIGN KEY (PersonID) REFERENCES Persons(PersonID)\n",
    ");\n",
    "#child table"
   ]
  },
  {
   "cell_type": "raw",
   "metadata": {},
   "source": [
    "#multiple fkey\n",
    "CREATE TABLE Orders (\n",
    "    OrderID int NOT NULL,\n",
    "    OrderNumber int NOT NULL,\n",
    "    PersonID int,\n",
    "    PRIMARY KEY (OrderID),\n",
    "    CONSTRAINT FK_PersonOrder FOREIGN KEY (PersonID)\n",
    "    REFERENCES Persons(PersonID)\n",
    ");"
   ]
  },
  {
   "cell_type": "raw",
   "metadata": {},
   "source": [
    "ALTER TABLE Orders\n",
    "ADD FOREIGN KEY (PersonID) REFERENCES Persons(PersonID);\n",
    "\n",
    "ALTER TABLE Orders \n",
    "CONSTRAINT FK_PersonOrder FOREIGN KEY (PersonID)"
   ]
  },
  {
   "cell_type": "code",
   "execution_count": null,
   "metadata": {},
   "outputs": [],
   "source": []
  },
  {
   "cell_type": "code",
   "execution_count": null,
   "metadata": {},
   "outputs": [],
   "source": []
  },
  {
   "cell_type": "code",
   "execution_count": null,
   "metadata": {},
   "outputs": [],
   "source": []
  },
  {
   "cell_type": "code",
   "execution_count": null,
   "metadata": {},
   "outputs": [],
   "source": []
  },
  {
   "cell_type": "code",
   "execution_count": null,
   "metadata": {},
   "outputs": [],
   "source": []
  },
  {
   "cell_type": "code",
   "execution_count": null,
   "metadata": {},
   "outputs": [],
   "source": []
  },
  {
   "cell_type": "code",
   "execution_count": null,
   "metadata": {},
   "outputs": [],
   "source": []
  },
  {
   "cell_type": "code",
   "execution_count": null,
   "metadata": {},
   "outputs": [],
   "source": []
  },
  {
   "cell_type": "code",
   "execution_count": null,
   "metadata": {},
   "outputs": [],
   "source": []
  },
  {
   "cell_type": "code",
   "execution_count": null,
   "metadata": {},
   "outputs": [],
   "source": []
  }
 ],
 "metadata": {
  "kernelspec": {
   "display_name": "Python 3",
   "language": "python",
   "name": "python3"
  },
  "language_info": {
   "codemirror_mode": {
    "name": "ipython",
    "version": 3
   },
   "file_extension": ".py",
   "mimetype": "text/x-python",
   "name": "python",
   "nbconvert_exporter": "python",
   "pygments_lexer": "ipython3",
   "version": "3.7.6"
  }
 },
 "nbformat": 4,
 "nbformat_minor": 4
}
