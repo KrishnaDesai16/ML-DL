{
 "cells": [
  {
   "cell_type": "code",
   "execution_count": 1,
   "metadata": {},
   "outputs": [],
   "source": [
    "import mysql.connector as connection\n"
   ]
  },
  {
   "cell_type": "markdown",
   "metadata": {},
   "source": [
    "# SELECT QUERY\n",
    "1) select FirstName,LastName  From  customerdetails\n",
    "2) select all columns\n",
    "3) SELECT DISTINCT LastName From  customerdetails"
   ]
  },
  {
   "cell_type": "code",
   "execution_count": 3,
   "metadata": {},
   "outputs": [
    {
     "name": "stdout",
     "output_type": "stream",
     "text": [
      "True\n",
      "('Krishna', 'Desai')\n",
      "('Rupa', 'Patel')\n",
      "('Raj', 'Patel')\n",
      "('abhi', 'Patel')\n",
      "('papal', 'Patel')\n",
      "('Raju', 'Patel')\n",
      "('hemal', 'shikh')\n",
      "('sita', 'modi')\n",
      "('zeel', 'ghoda')\n",
      "('poja', 'shah')\n",
      "('rahul', 'sisodia')\n"
     ]
    }
   ],
   "source": [
    "\n",
    "try:\n",
    "    mydb = connection.connect(host=\"localhost\", database = 'customer',user=\"root\", passwd=\"9105kdkd\",use_pure=True)\n",
    "    # check if the connection is established\n",
    "    print(mydb.is_connected())\n",
    "\n",
    "    query = \"select FirstName,LastName  From  customerdetails\"\n",
    "\n",
    "    cursor = mydb.cursor() #create a cursor to execute queries\n",
    "    cursor.execute(query)\n",
    "    for res in cursor.fetchall():\n",
    "        print(res)\n",
    "    \n",
    "    mydb.close()\n",
    "except Exception as e:\n",
    "    mydb.close()\n",
    "    print(str(e))"
   ]
  },
  {
   "cell_type": "code",
   "execution_count": 4,
   "metadata": {},
   "outputs": [
    {
     "name": "stdout",
     "output_type": "stream",
     "text": [
      "True\n",
      "(1, 1, 'Krishna', 'Desai', 5, 1, datetime.date(2006, 4, 14), datetime.date(2019, 2, 12))\n",
      "(2, 2, 'Rupa', 'Patel', 3, 0, datetime.date(2003, 4, 14), datetime.date(2018, 2, 12))\n",
      "(3, 1, 'Raj', 'Patel', 3, 0, datetime.date(2003, 4, 14), datetime.date(2018, 2, 12))\n",
      "(4, 3, 'abhi', 'Patel', 3, 0, datetime.date(2003, 4, 14), datetime.date(2018, 2, 12))\n",
      "(5, 1, 'papal', 'Patel', 3, 0, datetime.date(2003, 4, 14), datetime.date(2018, 2, 12))\n",
      "(6, 2, 'Raju', 'Patel', 3, 0, datetime.date(2003, 4, 14), datetime.date(2018, 2, 12))\n",
      "(7, 2, 'hemal', 'shikh', 3, 0, datetime.date(2004, 4, 14), datetime.date(2018, 2, 12))\n",
      "(8, 1, 'sita', 'modi', 3, 0, datetime.date(2005, 4, 12), datetime.date(2019, 2, 12))\n",
      "(9, 3, 'zeel', 'ghoda', 3, 0, datetime.date(2006, 2, 11), datetime.date(2020, 2, 12))\n",
      "(10, 1, 'poja', 'shah', 3, 0, datetime.date(2008, 10, 10), datetime.date(2015, 2, 12))\n",
      "(11, 2, 'rahul', 'sisodia', 3, 0, datetime.date(2003, 3, 9), datetime.date(2013, 2, 12))\n"
     ]
    }
   ],
   "source": [
    "try:\n",
    "    mydb = connection.connect(host=\"localhost\", database = 'customer',user=\"root\", passwd=\"9105kdkd\",use_pure=True)\n",
    "    # check if the connection is established\n",
    "    print(mydb.is_connected())\n",
    "\n",
    "    query = \"select *  From  customerdetails\"\n",
    "\n",
    "    cursor = mydb.cursor() #create a cursor to execute queries\n",
    "    cursor.execute(query)\n",
    "    for res in cursor.fetchall():\n",
    "        print(res)\n",
    "    \n",
    "    mydb.close()\n",
    "except Exception as e:\n",
    "    mydb.close()\n",
    "    print(str(e))"
   ]
  },
  {
   "cell_type": "code",
   "execution_count": 5,
   "metadata": {},
   "outputs": [
    {
     "name": "stdout",
     "output_type": "stream",
     "text": [
      "True\n",
      "('Desai',)\n",
      "('Patel',)\n",
      "('shikh',)\n",
      "('modi',)\n",
      "('ghoda',)\n",
      "('shah',)\n",
      "('sisodia',)\n"
     ]
    }
   ],
   "source": [
    "try:\n",
    "    mydb = connection.connect(host=\"localhost\", database = 'customer',user=\"root\", passwd=\"9105kdkd\",use_pure=True)\n",
    "    # check if the connection is established\n",
    "    print(mydb.is_connected())\n",
    "\n",
    "    query = \"SELECT DISTINCT LastName From  customerdetails\"\n",
    "\n",
    "    cursor = mydb.cursor() #create a cursor to execute queries\n",
    "    cursor.execute(query)\n",
    "    for res in cursor.fetchall():\n",
    "        print(res)\n",
    "    \n",
    "    mydb.close()\n",
    "except Exception as e:\n",
    "    mydb.close()\n",
    "    print(str(e))"
   ]
  },
  {
   "cell_type": "markdown",
   "metadata": {},
   "source": [
    "# WHERE"
   ]
  },
  {
   "cell_type": "code",
   "execution_count": 8,
   "metadata": {},
   "outputs": [
    {
     "name": "stdout",
     "output_type": "stream",
     "text": [
      "True\n",
      "('Rupa', 'Patel', 0)\n",
      "('Raj', 'Patel', 0)\n",
      "('abhi', 'Patel', 0)\n",
      "('papal', 'Patel', 0)\n",
      "('Raju', 'Patel', 0)\n"
     ]
    }
   ],
   "source": [
    "try:\n",
    "    mydb = connection.connect(host=\"localhost\", database = 'customer',user=\"root\", passwd=\"9105kdkd\",use_pure=True)\n",
    "    # check if the connection is established\n",
    "    print(mydb.is_connected())\n",
    "\n",
    "    query = \"SELECT FirstName,LastName,active FROM customerdetails WHERE LastName='Patel'\"\n",
    "\n",
    "    cursor = mydb.cursor() #create a cursor to execute queries\n",
    "    cursor.execute(query)\n",
    "    for res in cursor.fetchall():\n",
    "        print(res)\n",
    "    \n",
    "    mydb.close()\n",
    "except Exception as e:\n",
    "    mydb.close()\n",
    "    print(str(e))"
   ]
  },
  {
   "cell_type": "code",
   "execution_count": 9,
   "metadata": {},
   "outputs": [
    {
     "name": "stdout",
     "output_type": "stream",
     "text": [
      "True\n",
      "('Rupa', 'Patel', 0)\n",
      "('Raj', 'Patel', 0)\n",
      "('abhi', 'Patel', 0)\n",
      "('papal', 'Patel', 0)\n",
      "('Raju', 'Patel', 0)\n",
      "('hemal', 'shikh', 0)\n",
      "('sita', 'modi', 0)\n",
      "('zeel', 'ghoda', 0)\n",
      "('poja', 'shah', 0)\n",
      "('rahul', 'sisodia', 0)\n"
     ]
    }
   ],
   "source": [
    "try:\n",
    "    mydb = connection.connect(host=\"localhost\", database = 'customer',user=\"root\", passwd=\"9105kdkd\",use_pure=True)\n",
    "    # check if the connection is established\n",
    "    print(mydb.is_connected())\n",
    "\n",
    "    query = \"SELECT FirstName,LastName,active FROM customerdetails WHERE AddressID=3\"\n",
    "\n",
    "    cursor = mydb.cursor() #create a cursor to execute queries\n",
    "    cursor.execute(query)\n",
    "    for res in cursor.fetchall():\n",
    "        print(res)\n",
    "    \n",
    "    mydb.close()\n",
    "except Exception as e:\n",
    "    mydb.close()\n",
    "    print(str(e))"
   ]
  },
  {
   "cell_type": "raw",
   "metadata": {},
   "source": [
    "- =   Equal \n",
    "- >\tGreater than\n",
    "- <\tLess than\n",
    "- >=\tGreater than equal \n",
    "- <=\tLess than equal \n",
    "- < >\tNot equal (also written as !=)\n",
    "- BETWEEN\tBetween a range \n",
    "- LIKE\tSearch for  pattern \n",
    "- IN\tSpecify multiple possible values for a column\n"
   ]
  },
  {
   "cell_type": "markdown",
   "metadata": {},
   "source": [
    "# The SQL WHERE CLAUSE WITH AND, OR & NOT "
   ]
  },
  {
   "cell_type": "code",
   "execution_count": 12,
   "metadata": {},
   "outputs": [
    {
     "name": "stdout",
     "output_type": "stream",
     "text": [
      "True\n",
      "('Raj', 'Patel')\n"
     ]
    }
   ],
   "source": [
    "try:\n",
    "    mydb = connection.connect(host=\"localhost\", database = 'customer',user=\"root\", passwd=\"9105kdkd\",use_pure=True)\n",
    "    # check if the connection is established\n",
    "    print(mydb.is_connected())\n",
    "\n",
    "    query = \"SELECT FirstName , LastName FROM customerdetails WHERE FirstName='Raj'  AND LastName='Patel' \"\n",
    "\n",
    "    cursor = mydb.cursor() #create a cursor to execute queries\n",
    "    cursor.execute(query)\n",
    "    for res in cursor.fetchall():\n",
    "        print(res)\n",
    "    \n",
    "    mydb.close()\n",
    "except Exception as e:\n",
    "    mydb.close()\n",
    "    print(str(e))"
   ]
  },
  {
   "cell_type": "code",
   "execution_count": 13,
   "metadata": {},
   "outputs": [
    {
     "name": "stdout",
     "output_type": "stream",
     "text": [
      "True\n",
      "('Rupa', 'Patel')\n",
      "('Raj', 'Patel')\n",
      "('abhi', 'Patel')\n",
      "('papal', 'Patel')\n",
      "('Raju', 'Patel')\n",
      "('hemal', 'shikh')\n",
      "('sita', 'modi')\n",
      "('zeel', 'ghoda')\n",
      "('poja', 'shah')\n",
      "('rahul', 'sisodia')\n"
     ]
    }
   ],
   "source": [
    "try:\n",
    "    mydb = connection.connect(host=\"localhost\", database = 'customer',user=\"root\", passwd=\"9105kdkd\",use_pure=True)\n",
    "    # check if the connection is established\n",
    "    print(mydb.is_connected())\n",
    "\n",
    "    query = \"SELECT FirstName , LastName FROM customerdetails WHERE active='0'  OR  LastName='Patel' \"\n",
    "\n",
    "    cursor = mydb.cursor() #create a cursor to execute queries\n",
    "    cursor.execute(query)\n",
    "    for res in cursor.fetchall():\n",
    "        print(res)\n",
    "    \n",
    "    mydb.close()\n",
    "except Exception as e:\n",
    "    mydb.close()\n",
    "    print(str(e))"
   ]
  },
  {
   "cell_type": "code",
   "execution_count": 14,
   "metadata": {},
   "outputs": [
    {
     "name": "stdout",
     "output_type": "stream",
     "text": [
      "True\n",
      "('Rupa', 'Patel', 2)\n",
      "('abhi', 'Patel', 3)\n",
      "('Raju', 'Patel', 2)\n",
      "('hemal', 'shikh', 2)\n",
      "('zeel', 'ghoda', 3)\n",
      "('rahul', 'sisodia', 2)\n"
     ]
    }
   ],
   "source": [
    "try:\n",
    "    mydb = connection.connect(host=\"localhost\", database = 'customer',user=\"root\", passwd=\"9105kdkd\",use_pure=True)\n",
    "    # check if the connection is established\n",
    "    print(mydb.is_connected())\n",
    "\n",
    "    query = \"SELECT FirstName , LastName ,StoreID FROM customerdetails WHERE NOT StoreID=1  \"\n",
    "\n",
    "    cursor = mydb.cursor() #create a cursor to execute queries\n",
    "    cursor.execute(query)\n",
    "    for res in cursor.fetchall():\n",
    "        print(res)\n",
    "        \n",
    "\n",
    "        \n",
    "    mydb.close()\n",
    "except Exception as e:\n",
    "    mydb.close()\n",
    "    print(str(e))"
   ]
  },
  {
   "cell_type": "code",
   "execution_count": 21,
   "metadata": {},
   "outputs": [
    {
     "name": "stdout",
     "output_type": "stream",
     "text": [
      "True\n",
      "(2, 2, 'Rupa', 'Patel')\n",
      "(6, 2, 'Raju', 'Patel')\n",
      "(3, 1, 'Raj', 'Patel')\n",
      "(5, 1, 'papal', 'Patel')\n",
      "(4, 3, 'abhi', 'Patel')\n"
     ]
    }
   ],
   "source": [
    "try:\n",
    "    mydb = connection.connect(host=\"localhost\", database = 'customer',user=\"root\", passwd=\"9105kdkd\",use_pure=True)\n",
    "    # check if the connection is established\n",
    "    print(mydb.is_connected())\n",
    "\n",
    "    query = \"SELECT CutomerID,StoreID,FirstName,LastName FROM customerdetails WHERE LastName='Patel' ORDER BY FirstName DESC \"\n",
    "\n",
    "    cursor = mydb.cursor() #create a cursor to execute queries\n",
    "    cursor.execute(query)\n",
    "    for res in cursor.fetchall():\n",
    "        print(res)\n",
    "    \n",
    "    mydb.close()\n",
    "except Exception as e:\n",
    "    mydb.close()\n",
    "    print(str(e))"
   ]
  },
  {
   "cell_type": "code",
   "execution_count": 26,
   "metadata": {},
   "outputs": [
    {
     "name": "stdout",
     "output_type": "stream",
     "text": [
      "True\n",
      "(1, 1, 'Krishna', 'Desai')\n",
      "(2, 2, 'Rupa', 'Patel')\n",
      "(3, 1, 'Raj', 'Patel')\n",
      "(4, 3, 'abhi', 'Patel')\n",
      "(5, 1, 'papal', 'Patel')\n",
      "(6, 2, 'Raju', 'Patel')\n",
      "(7, 2, 'hemal', 'shikh')\n",
      "(8, 1, 'sita', 'modi')\n",
      "(9, 3, 'zeel', 'ghoda')\n",
      "(10, 1, 'poja', 'shah')\n",
      "(11, 2, 'rahul', 'sisodia')\n"
     ]
    }
   ],
   "source": [
    "try:\n",
    "    mydb = connection.connect(host=\"localhost\", database = 'customer',user=\"root\", passwd=\"9105kdkd\",use_pure=True)\n",
    "    # check if the connection is established\n",
    "    print(mydb.is_connected())\n",
    "\n",
    "    query = \"SELECT CutomerID,StoreID,FirstName,LastName FROM customerdetails   LIMIT 11;\"\n",
    "\n",
    "    cursor = mydb.cursor() #create a cursor to execute queries\n",
    "    cursor.execute(query)\n",
    "    for res in cursor.fetchall():\n",
    "        print(res)\n",
    "    \n",
    "    mydb.close()\n",
    "except Exception as e:\n",
    "    mydb.close()\n",
    "    print(str(e))"
   ]
  },
  {
   "cell_type": "markdown",
   "metadata": {},
   "source": [
    "# SQL MIN() AND MAX() FUNCTION"
   ]
  },
  {
   "cell_type": "code",
   "execution_count": 29,
   "metadata": {},
   "outputs": [
    {
     "name": "stdout",
     "output_type": "stream",
     "text": [
      "True\n",
      "(3,)\n"
     ]
    }
   ],
   "source": [
    "try:\n",
    "    mydb = connection.connect(host=\"localhost\", database = 'customer',user=\"root\", passwd=\"9105kdkd\",use_pure=True)\n",
    "    # check if the connection is established\n",
    "    print(mydb.is_connected())\n",
    "\n",
    "    query = \"SELECT MIN(AddressID) AS SmallID FROM customerdetails ;\"\n",
    "\n",
    "    cursor = mydb.cursor() #create a cursor to execute queries\n",
    "    cursor.execute(query)\n",
    "    for res in cursor.fetchall():\n",
    "        print(res)\n",
    "    \n",
    "    mydb.close()\n",
    "except Exception as e:\n",
    "    mydb.close()\n",
    "    print(str(e))"
   ]
  },
  {
   "cell_type": "code",
   "execution_count": 30,
   "metadata": {},
   "outputs": [
    {
     "name": "stdout",
     "output_type": "stream",
     "text": [
      "True\n",
      "(5,)\n"
     ]
    }
   ],
   "source": [
    "try:\n",
    "    mydb = connection.connect(host=\"localhost\", database = 'customer',user=\"root\", passwd=\"9105kdkd\",use_pure=True)\n",
    "    # check if the connection is established\n",
    "    print(mydb.is_connected())\n",
    "\n",
    "    query = \"SELECT MAX(AddressID) AS SmallID FROM customerdetails ;\"\n",
    "\n",
    "    cursor = mydb.cursor() #create a cursor to execute queries\n",
    "    cursor.execute(query)\n",
    "    for res in cursor.fetchall():\n",
    "        print(res)\n",
    "    \n",
    "    mydb.close()\n",
    "except Exception as e:\n",
    "    mydb.close()\n",
    "    print(str(e))"
   ]
  },
  {
   "cell_type": "markdown",
   "metadata": {},
   "source": [
    "# The SQL COUNT(), AVG() AND SUM() FUNCTION"
   ]
  },
  {
   "cell_type": "code",
   "execution_count": 32,
   "metadata": {},
   "outputs": [
    {
     "name": "stdout",
     "output_type": "stream",
     "text": [
      "True\n",
      "(4,)\n"
     ]
    }
   ],
   "source": [
    "try:\n",
    "    mydb = connection.connect(host=\"localhost\", database = 'customer',user=\"root\", passwd=\"9105kdkd\",use_pure=True)\n",
    "    # check if the connection is established\n",
    "    print(mydb.is_connected())\n",
    "\n",
    "    query = \"SELECT COUNT(StoreID) FROM customerdetails WHERE StoreID=2 ;\"\n",
    "\n",
    "    cursor = mydb.cursor() #create a cursor to execute queries\n",
    "    cursor.execute(query)\n",
    "    for res in cursor.fetchall():\n",
    "        print(res)\n",
    "    \n",
    "    mydb.close()\n",
    "except Exception as e:\n",
    "    mydb.close()\n",
    "    print(str(e))"
   ]
  },
  {
   "cell_type": "code",
   "execution_count": 33,
   "metadata": {},
   "outputs": [
    {
     "name": "stdout",
     "output_type": "stream",
     "text": [
      "True\n",
      "(Decimal('2.0000'),)\n"
     ]
    }
   ],
   "source": [
    "try:\n",
    "    mydb = connection.connect(host=\"localhost\", database = 'customer',user=\"root\", passwd=\"9105kdkd\",use_pure=True)\n",
    "    # check if the connection is established\n",
    "    print(mydb.is_connected())\n",
    "\n",
    "    query = \"SELECT AVG(StoreID) FROM customerdetails WHERE StoreID=2 ;\"\n",
    "\n",
    "    cursor = mydb.cursor() #create a cursor to execute queries\n",
    "    cursor.execute(query)\n",
    "    for res in cursor.fetchall():\n",
    "        print(res)\n",
    "    \n",
    "    mydb.close()\n",
    "except Exception as e:\n",
    "    mydb.close()\n",
    "    print(str(e))"
   ]
  },
  {
   "cell_type": "code",
   "execution_count": 34,
   "metadata": {},
   "outputs": [
    {
     "name": "stdout",
     "output_type": "stream",
     "text": [
      "True\n",
      "(Decimal('19'),)\n"
     ]
    }
   ],
   "source": [
    "try:\n",
    "    mydb = connection.connect(host=\"localhost\", database = 'customer',user=\"root\", passwd=\"9105kdkd\",use_pure=True)\n",
    "    # check if the connection is established\n",
    "    print(mydb.is_connected())\n",
    "\n",
    "    query = \"SELECT SUM(StoreID) FROM customerdetails;\"\n",
    "\n",
    "    cursor = mydb.cursor() #create a cursor to execute queries\n",
    "    cursor.execute(query)\n",
    "    for res in cursor.fetchall():\n",
    "        print(res)\n",
    "    \n",
    "    mydb.close()\n",
    "except Exception as e:\n",
    "    mydb.close()\n",
    "    print(str(e))"
   ]
  },
  {
   "cell_type": "markdown",
   "metadata": {},
   "source": [
    "# The SQL LIKE-OPERATOR"
   ]
  },
  {
   "cell_type": "code",
   "execution_count": 45,
   "metadata": {},
   "outputs": [
    {
     "name": "stdout",
     "output_type": "stream",
     "text": [
      "True\n"
     ]
    }
   ],
   "source": [
    "try:\n",
    "    mydb = connection.connect(host=\"localhost\", database = 'customer',user=\"root\", passwd=\"9105kdkd\",use_pure=True)\n",
    "    # check if the connection is established\n",
    "    print(mydb.is_connected())\n",
    "\n",
    "    mySql_insert_query = \"\"\"INSERT INTO customerdetails (CutomerID, StoreID, FirstName, LastName, AddressID, active, CreateDate, UpdateDate) \n",
    "                           VALUES (%s, %s, %s, %s,%s,%s,%s,%s) \"\"\"\n",
    "\n",
    "    records_to_insert = [(12, '2','Viranchi','Bhatt' ,67,0,'2019-01-11','2020-01-11'),\n",
    "                         (13, '3', 'Pariskesh','Raval',12,1, '2019-02-27','2019-07-04'),\n",
    "                         (14, '1', 'Demon','bond',23,0, '2013-07-23','2015-09-30'),\n",
    "                         (15, '2', 'Stefan', 'salvoretian',78,1,'2019-07-23','2020-0,5-11'), \n",
    "                         (16, '2', 'Alena','Gelbert',33,0,'2019-07-23','2015-09-30')]\n",
    "   \n",
    "    cursor=mydb.cursor()\n",
    "    cursor.executemany(mySql_insert_query, records_to_insert)\n",
    "    mydb.commit()\n",
    "   \n",
    "    \n",
    "    \n",
    "    mydb.close()\n",
    "except Exception as e:\n",
    "    mydb.close()\n",
    "    print(str(e))"
   ]
  },
  {
   "cell_type": "code",
   "execution_count": 72,
   "metadata": {},
   "outputs": [
    {
     "name": "stdout",
     "output_type": "stream",
     "text": [
      "True\n",
      "(1, 1, 'Krishna', 'Desai', 5, 1, datetime.date(2006, 4, 14), datetime.date(2019, 2, 12))\n"
     ]
    }
   ],
   "source": [
    "try:\n",
    "    mydb = connection.connect(host=\"localhost\", database = 'customer',user=\"root\", passwd=\"9105kdkd\",use_pure=True)\n",
    "    # check if the connection is established\n",
    "    print(mydb.is_connected())\n",
    "\n",
    "    query1 = \"SELECT * FROM customerdetails WHERE FirstName LIKE 'P%';\"\n",
    "    query2=\"SELECT * FROM customerdetails WHERE FirstName LIKE '%A';\"\n",
    "    query3=\"SELECT * FROM customerdetails WHERE LastName LIKE '%e%';\"\n",
    "    query4=\"SELECT * FROM customerdetails WHERE FirstName LIKE 'A%i';\"\n",
    "    query5=\"SELECT * FROM customerdetails WHERE FirstName LIKE 'A___%';\"\n",
    "    query6=\"SELECT * FROM customerdetails WHERE FirstName LIKE 'Pa%';\"\n",
    "    \n",
    "    \n",
    "    \n",
    "    cursor = mydb.cursor() #create a cursor to execute queries\n",
    "    cursor.execute(query7)\n",
    "    for res in cursor.fetchall():\n",
    "        print(res)\n",
    "    \n",
    "    mydb.close()\n",
    "except Exception as e:\n",
    "    mydb.close()\n",
    "    print(str(e))"
   ]
  },
  {
   "cell_type": "markdown",
   "metadata": {},
   "source": [
    "# The SQL IN AND NOT IN OPERATORS"
   ]
  },
  {
   "cell_type": "code",
   "execution_count": 76,
   "metadata": {},
   "outputs": [
    {
     "name": "stdout",
     "output_type": "stream",
     "text": [
      "True\n",
      "(2, 2, 'Rupa', 'Patel', 3, 0, datetime.date(2003, 4, 14), datetime.date(2018, 2, 12))\n",
      "(4, 3, 'abhi', 'Patel', 3, 0, datetime.date(2003, 4, 14), datetime.date(2018, 2, 12))\n",
      "(6, 2, 'Raju', 'Patel', 3, 0, datetime.date(2003, 4, 14), datetime.date(2018, 2, 12))\n",
      "(7, 2, 'hemal', 'shikh', 3, 0, datetime.date(2004, 4, 14), datetime.date(2018, 2, 12))\n",
      "(9, 3, 'zeel', 'ghoda', 3, 0, datetime.date(2006, 2, 11), datetime.date(2020, 2, 12))\n",
      "(11, 2, 'rahul', 'sisodia', 3, 0, datetime.date(2003, 3, 9), datetime.date(2013, 2, 12))\n",
      "(12, 2, 'Viranchi', 'Bhatt', 67, 0, datetime.date(2019, 1, 11), datetime.date(2020, 1, 11))\n",
      "(13, 3, 'Pariskesh', 'Raval', 12, 1, datetime.date(2019, 2, 27), datetime.date(2019, 7, 4))\n",
      "(15, 2, 'Stefan', 'salvoretian', 78, 1, datetime.date(2019, 7, 23), None)\n",
      "(16, 2, 'Alena', 'Gelbert', 33, 0, datetime.date(2019, 7, 23), datetime.date(2015, 9, 30))\n"
     ]
    }
   ],
   "source": [
    "try:\n",
    "    mydb = connection.connect(host=\"localhost\", database = 'customer',user=\"root\", passwd=\"9105kdkd\",use_pure=True)\n",
    "    # check if the connection is established\n",
    "    print(mydb.is_connected())\n",
    "\n",
    "    query = \"SELECT * FROM customerdetails Where StoreID IN(1,2,3) \"\n",
    "    query1 = \"SELECT * FROM customerdetails Where StoreID NOT IN(1) \"\n",
    "\n",
    "    cursor = mydb.cursor() #create a cursor to execute queries\n",
    "    cursor.execute(query1)\n",
    "    for res in cursor.fetchall():\n",
    "        print(res)\n",
    "    \n",
    "    mydb.close()\n",
    "except Exception as e:\n",
    "    mydb.close()\n",
    "    print(str(e))"
   ]
  },
  {
   "cell_type": "markdown",
   "metadata": {},
   "source": [
    "# The SQL BETWEEN OPERATOR"
   ]
  },
  {
   "cell_type": "code",
   "execution_count": 79,
   "metadata": {},
   "outputs": [
    {
     "name": "stdout",
     "output_type": "stream",
     "text": [
      "True\n",
      "(1, 1, 'Krishna', 'Desai', 5, 1, datetime.date(2006, 4, 14), datetime.date(2019, 2, 12))\n",
      "(2, 2, 'Rupa', 'Patel', 3, 0, datetime.date(2003, 4, 14), datetime.date(2018, 2, 12))\n",
      "(3, 1, 'Raj', 'Patel', 3, 0, datetime.date(2003, 4, 14), datetime.date(2018, 2, 12))\n",
      "(4, 3, 'abhi', 'Patel', 3, 0, datetime.date(2003, 4, 14), datetime.date(2018, 2, 12))\n",
      "(5, 1, 'papal', 'Patel', 3, 0, datetime.date(2003, 4, 14), datetime.date(2018, 2, 12))\n",
      "(6, 2, 'Raju', 'Patel', 3, 0, datetime.date(2003, 4, 14), datetime.date(2018, 2, 12))\n",
      "(7, 2, 'hemal', 'shikh', 3, 0, datetime.date(2004, 4, 14), datetime.date(2018, 2, 12))\n",
      "(8, 1, 'sita', 'modi', 3, 0, datetime.date(2005, 4, 12), datetime.date(2019, 2, 12))\n",
      "(9, 3, 'zeel', 'ghoda', 3, 0, datetime.date(2006, 2, 11), datetime.date(2020, 2, 12))\n",
      "(10, 1, 'poja', 'shah', 3, 0, datetime.date(2008, 10, 10), datetime.date(2015, 2, 12))\n",
      "(11, 2, 'rahul', 'sisodia', 3, 0, datetime.date(2003, 3, 9), datetime.date(2013, 2, 12))\n"
     ]
    }
   ],
   "source": [
    "try:\n",
    "    mydb = connection.connect(host=\"localhost\", database = 'customer',user=\"root\", passwd=\"9105kdkd\",use_pure=True)\n",
    "    # check if the connection is established\n",
    "    print(mydb.is_connected())\n",
    "\n",
    "    query = \"SELECT * FROM customerdetails where AddressID BETWEEN 1 AND 10\"\n",
    "    query1 = \"SELECT * FROM customerdetails Where StoreID NOT IN(1) \"\n",
    "\n",
    "    cursor = mydb.cursor() #create a cursor to execute queries\n",
    "    cursor.execute(query)\n",
    "    for res in cursor.fetchall():\n",
    "        print(res)\n",
    "    \n",
    "    mydb.close()\n",
    "except Exception as e:\n",
    "    mydb.close()\n",
    "    print(str(e))"
   ]
  },
  {
   "cell_type": "markdown",
   "metadata": {},
   "source": [
    "# The SQL ALIAS"
   ]
  },
  {
   "cell_type": "code",
   "execution_count": 85,
   "metadata": {},
   "outputs": [],
   "source": [
    "import pandas"
   ]
  },
  {
   "cell_type": "code",
   "execution_count": 93,
   "metadata": {},
   "outputs": [
    {
     "name": "stdout",
     "output_type": "stream",
     "text": [
      "True\n"
     ]
    }
   ],
   "source": [
    "try:\n",
    "    mydb = connection.connect(host=\"localhost\", database = 'customer',user=\"root\", passwd=\"9105kdkd\",use_pure=True)\n",
    "    # check if the connection is established\n",
    "    print(mydb.is_connected())\n",
    "\n",
    "    query = \"SELECT FirstName AS first ,LastName AS last FROM customerdetails\"\n",
    "    query1 = \"SELECT t.FirstName AS first ,t.LastName AS last FROM customerdetails AS t\"\n",
    "    result_dataFrame = pandas.read_sql(query1,mydb)\n",
    "    result_dataFrame\n",
    "    mydb.close()\n",
    "except Exception as e:\n",
    "    mydb.close()\n",
    "    print(str(e))"
   ]
  },
  {
   "cell_type": "code",
   "execution_count": 94,
   "metadata": {},
   "outputs": [
    {
     "data": {
      "text/html": [
       "<div>\n",
       "<style scoped>\n",
       "    .dataframe tbody tr th:only-of-type {\n",
       "        vertical-align: middle;\n",
       "    }\n",
       "\n",
       "    .dataframe tbody tr th {\n",
       "        vertical-align: top;\n",
       "    }\n",
       "\n",
       "    .dataframe thead th {\n",
       "        text-align: right;\n",
       "    }\n",
       "</style>\n",
       "<table border=\"1\" class=\"dataframe\">\n",
       "  <thead>\n",
       "    <tr style=\"text-align: right;\">\n",
       "      <th></th>\n",
       "      <th>first</th>\n",
       "      <th>last</th>\n",
       "    </tr>\n",
       "  </thead>\n",
       "  <tbody>\n",
       "    <tr>\n",
       "      <th>0</th>\n",
       "      <td>Krishna</td>\n",
       "      <td>Desai</td>\n",
       "    </tr>\n",
       "    <tr>\n",
       "      <th>1</th>\n",
       "      <td>Rupa</td>\n",
       "      <td>Patel</td>\n",
       "    </tr>\n",
       "    <tr>\n",
       "      <th>2</th>\n",
       "      <td>Raj</td>\n",
       "      <td>Patel</td>\n",
       "    </tr>\n",
       "    <tr>\n",
       "      <th>3</th>\n",
       "      <td>abhi</td>\n",
       "      <td>Patel</td>\n",
       "    </tr>\n",
       "    <tr>\n",
       "      <th>4</th>\n",
       "      <td>papal</td>\n",
       "      <td>Patel</td>\n",
       "    </tr>\n",
       "    <tr>\n",
       "      <th>5</th>\n",
       "      <td>Raju</td>\n",
       "      <td>Patel</td>\n",
       "    </tr>\n",
       "    <tr>\n",
       "      <th>6</th>\n",
       "      <td>hemal</td>\n",
       "      <td>shikh</td>\n",
       "    </tr>\n",
       "    <tr>\n",
       "      <th>7</th>\n",
       "      <td>sita</td>\n",
       "      <td>modi</td>\n",
       "    </tr>\n",
       "    <tr>\n",
       "      <th>8</th>\n",
       "      <td>zeel</td>\n",
       "      <td>ghoda</td>\n",
       "    </tr>\n",
       "    <tr>\n",
       "      <th>9</th>\n",
       "      <td>poja</td>\n",
       "      <td>shah</td>\n",
       "    </tr>\n",
       "    <tr>\n",
       "      <th>10</th>\n",
       "      <td>rahul</td>\n",
       "      <td>sisodia</td>\n",
       "    </tr>\n",
       "    <tr>\n",
       "      <th>11</th>\n",
       "      <td>Viranchi</td>\n",
       "      <td>Bhatt</td>\n",
       "    </tr>\n",
       "    <tr>\n",
       "      <th>12</th>\n",
       "      <td>Pariskesh</td>\n",
       "      <td>Raval</td>\n",
       "    </tr>\n",
       "    <tr>\n",
       "      <th>13</th>\n",
       "      <td>Demon</td>\n",
       "      <td>bond</td>\n",
       "    </tr>\n",
       "    <tr>\n",
       "      <th>14</th>\n",
       "      <td>Stefan</td>\n",
       "      <td>salvoretian</td>\n",
       "    </tr>\n",
       "    <tr>\n",
       "      <th>15</th>\n",
       "      <td>Alena</td>\n",
       "      <td>Gelbert</td>\n",
       "    </tr>\n",
       "  </tbody>\n",
       "</table>\n",
       "</div>"
      ],
      "text/plain": [
       "        first         last\n",
       "0     Krishna        Desai\n",
       "1        Rupa        Patel\n",
       "2         Raj        Patel\n",
       "3        abhi        Patel\n",
       "4       papal        Patel\n",
       "5        Raju        Patel\n",
       "6       hemal        shikh\n",
       "7        sita         modi\n",
       "8        zeel        ghoda\n",
       "9        poja         shah\n",
       "10      rahul      sisodia\n",
       "11   Viranchi        Bhatt\n",
       "12  Pariskesh        Raval\n",
       "13      Demon         bond\n",
       "14     Stefan  salvoretian\n",
       "15      Alena      Gelbert"
      ]
     },
     "execution_count": 94,
     "metadata": {},
     "output_type": "execute_result"
    }
   ],
   "source": [
    "result_dataFrame"
   ]
  },
  {
   "cell_type": "markdown",
   "metadata": {},
   "source": [
    "# The SQL GROUP BY STATEMENT"
   ]
  },
  {
   "cell_type": "code",
   "execution_count": 127,
   "metadata": {},
   "outputs": [
    {
     "name": "stdout",
     "output_type": "stream",
     "text": [
      "True\n"
     ]
    }
   ],
   "source": [
    "try:\n",
    "    mydb = connection.connect(host=\"localhost\", database = 'customer',user=\"root\", passwd=\"9105kdkd\",use_pure=True)\n",
    "    # check if the connection is established\n",
    "    print(mydb.is_connected())\n",
    "\n",
    "    query = \"SELECT AddressID as addID ,Count(FirstName) as NOofpeople From customerdetails Where active=0 GROUP BY AddressID ORDER BY AddressID ASC\"\n",
    "   \n",
    "\n",
    "    cursor = mydb.cursor() #create a cursor to execute queries\n",
    "    result = pandas.read_sql(query,mydb)\n",
    "    result\n",
    "    \n",
    "    mydb.close()\n",
    "except Exception as e:\n",
    "    mydb.close()\n",
    "    print(str(e))"
   ]
  },
  {
   "cell_type": "code",
   "execution_count": 128,
   "metadata": {},
   "outputs": [
    {
     "data": {
      "text/html": [
       "<div>\n",
       "<style scoped>\n",
       "    .dataframe tbody tr th:only-of-type {\n",
       "        vertical-align: middle;\n",
       "    }\n",
       "\n",
       "    .dataframe tbody tr th {\n",
       "        vertical-align: top;\n",
       "    }\n",
       "\n",
       "    .dataframe thead th {\n",
       "        text-align: right;\n",
       "    }\n",
       "</style>\n",
       "<table border=\"1\" class=\"dataframe\">\n",
       "  <thead>\n",
       "    <tr style=\"text-align: right;\">\n",
       "      <th></th>\n",
       "      <th>addID</th>\n",
       "      <th>NOofpeople</th>\n",
       "    </tr>\n",
       "  </thead>\n",
       "  <tbody>\n",
       "    <tr>\n",
       "      <th>0</th>\n",
       "      <td>3</td>\n",
       "      <td>10</td>\n",
       "    </tr>\n",
       "    <tr>\n",
       "      <th>1</th>\n",
       "      <td>23</td>\n",
       "      <td>1</td>\n",
       "    </tr>\n",
       "    <tr>\n",
       "      <th>2</th>\n",
       "      <td>33</td>\n",
       "      <td>1</td>\n",
       "    </tr>\n",
       "    <tr>\n",
       "      <th>3</th>\n",
       "      <td>67</td>\n",
       "      <td>1</td>\n",
       "    </tr>\n",
       "  </tbody>\n",
       "</table>\n",
       "</div>"
      ],
      "text/plain": [
       "   addID  NOofpeople\n",
       "0      3          10\n",
       "1     23           1\n",
       "2     33           1\n",
       "3     67           1"
      ]
     },
     "execution_count": 128,
     "metadata": {},
     "output_type": "execute_result"
    }
   ],
   "source": [
    "result"
   ]
  },
  {
   "cell_type": "markdown",
   "metadata": {},
   "source": [
    "# The SQL HAVING CLAUSE"
   ]
  },
  {
   "cell_type": "code",
   "execution_count": 132,
   "metadata": {},
   "outputs": [
    {
     "name": "stdout",
     "output_type": "stream",
     "text": [
      "True\n"
     ]
    }
   ],
   "source": [
    "try:\n",
    "    mydb = connection.connect(host=\"localhost\", database = 'customer',user=\"root\", passwd=\"9105kdkd\",use_pure=True)\n",
    "    # check if the connection is established\n",
    "    print(mydb.is_connected())\n",
    "\n",
    "    query = \"SELECT AddressID as addID ,Count(FirstName) as NOofpeople From customerdetails Where active=0  GROUP BY AddressID having count(firstname)>1 ORDER BY AddressID ASC  \"\n",
    "   \n",
    "\n",
    "    cursor = mydb.cursor() #create a cursor to execute queries\n",
    "    result = pandas.read_sql(query,mydb)\n",
    "    result\n",
    "    \n",
    "    mydb.close()\n",
    "except Exception as e:\n",
    "    mydb.close()\n",
    "    print(str(e))"
   ]
  },
  {
   "cell_type": "code",
   "execution_count": 133,
   "metadata": {},
   "outputs": [
    {
     "data": {
      "text/html": [
       "<div>\n",
       "<style scoped>\n",
       "    .dataframe tbody tr th:only-of-type {\n",
       "        vertical-align: middle;\n",
       "    }\n",
       "\n",
       "    .dataframe tbody tr th {\n",
       "        vertical-align: top;\n",
       "    }\n",
       "\n",
       "    .dataframe thead th {\n",
       "        text-align: right;\n",
       "    }\n",
       "</style>\n",
       "<table border=\"1\" class=\"dataframe\">\n",
       "  <thead>\n",
       "    <tr style=\"text-align: right;\">\n",
       "      <th></th>\n",
       "      <th>addID</th>\n",
       "      <th>NOofpeople</th>\n",
       "    </tr>\n",
       "  </thead>\n",
       "  <tbody>\n",
       "    <tr>\n",
       "      <th>0</th>\n",
       "      <td>3</td>\n",
       "      <td>10</td>\n",
       "    </tr>\n",
       "  </tbody>\n",
       "</table>\n",
       "</div>"
      ],
      "text/plain": [
       "   addID  NOofpeople\n",
       "0      3          10"
      ]
     },
     "execution_count": 133,
     "metadata": {},
     "output_type": "execute_result"
    }
   ],
   "source": [
    "result"
   ]
  },
  {
   "cell_type": "code",
   "execution_count": null,
   "metadata": {},
   "outputs": [],
   "source": [
    "#create table orders"
   ]
  },
  {
   "cell_type": "code",
   "execution_count": 140,
   "metadata": {},
   "outputs": [
    {
     "name": "stdout",
     "output_type": "stream",
     "text": [
      "True\n",
      "Table Created!!\n"
     ]
    }
   ],
   "source": [
    "import mysql.connector as connection\n",
    "\n",
    "try:\n",
    "    mydb = connection.connect(host=\"localhost\", database = 'customer',user=\"root\", passwd=\"9105kdkd\",use_pure=True)\n",
    "    # check if the connection is established\n",
    "    print(mydb.is_connected())\n",
    "\n",
    "    query = \"CREATE TABLE Orders (OrderID INT(10),CustomerID INT(10),EmployeeID INT(8),OrderDate DATE ,ShipperID INT(10));\"\n",
    "\n",
    "    cursor = mydb.cursor() #create a cursor to execute queries\n",
    "    cursor.execute(query)\n",
    "    print(\"Table Created!!\")\n",
    "    mydb.close()\n",
    "except Exception as e:\n",
    "    mydb.close()\n",
    "    print(str(e))"
   ]
  },
  {
   "cell_type": "code",
   "execution_count": 142,
   "metadata": {},
   "outputs": [
    {
     "name": "stdout",
     "output_type": "stream",
     "text": [
      "True\n"
     ]
    }
   ],
   "source": [
    "try:\n",
    "    mydb = connection.connect(host=\"localhost\", database = 'customer',user=\"root\", passwd=\"9105kdkd\",use_pure=True)\n",
    "    # check if the connection is established\n",
    "    print(mydb.is_connected())\n",
    "\n",
    "    mySql_insert_query = \"\"\"INSERT INTO orders (OrderID, CustomerID, EmployeeID, OrderDate, ShipperID) \n",
    "                           VALUES (%s, %s, %s, %s,%s) \"\"\"\n",
    "\n",
    "    records_to_insert = [(1000, '1','101' ,'2019-01-11',11),\n",
    "                         (1001, '2', '102','2019-02-27',4),\n",
    "                         (1009, '3', '103','2013-07-23',3),\n",
    "                         (1111, '4', '104','2019-07-23',11), \n",
    "                         (1160, '5', '105','2019-07-23',30)]\n",
    "   \n",
    "    cursor=mydb.cursor()\n",
    "    cursor.executemany(mySql_insert_query, records_to_insert)\n",
    "    mydb.commit()\n",
    "   \n",
    "    \n",
    "    \n",
    "    mydb.close()\n",
    "except Exception as e:\n",
    "    mydb.close()\n",
    "    print(str(e))"
   ]
  },
  {
   "cell_type": "markdown",
   "metadata": {},
   "source": [
    "# SQL INNER JOIN"
   ]
  },
  {
   "cell_type": "code",
   "execution_count": 149,
   "metadata": {},
   "outputs": [
    {
     "name": "stdout",
     "output_type": "stream",
     "text": [
      "True\n"
     ]
    }
   ],
   "source": [
    "try:\n",
    "    mydb = connection.connect(host=\"localhost\", database = 'customer',user=\"root\", passwd=\"9105kdkd\",use_pure=True)\n",
    "    # check if the connection is established\n",
    "    print(mydb.is_connected())\n",
    "\n",
    "    query = \"SELECT CutomerID from customerdetails  UNION SELECT CustomerID from Orders \"\n",
    "    query1 = \"SELECT CutomerID from customerdetails  UNION ALL SELECT CustomerID from Orders \"\n",
    "    \n",
    "  \n",
    "\n",
    "    cursor = mydb.cursor() #create a cursor to execute queries\n",
    "    result = pandas.read_sql(query1,mydb)\n",
    "    result\n",
    "    \n",
    "    mydb.close()\n",
    "except Exception as e:\n",
    "    mydb.close()\n",
    "    print(str(e))"
   ]
  },
  {
   "cell_type": "code",
   "execution_count": 150,
   "metadata": {},
   "outputs": [
    {
     "data": {
      "text/html": [
       "<div>\n",
       "<style scoped>\n",
       "    .dataframe tbody tr th:only-of-type {\n",
       "        vertical-align: middle;\n",
       "    }\n",
       "\n",
       "    .dataframe tbody tr th {\n",
       "        vertical-align: top;\n",
       "    }\n",
       "\n",
       "    .dataframe thead th {\n",
       "        text-align: right;\n",
       "    }\n",
       "</style>\n",
       "<table border=\"1\" class=\"dataframe\">\n",
       "  <thead>\n",
       "    <tr style=\"text-align: right;\">\n",
       "      <th></th>\n",
       "      <th>CutomerID</th>\n",
       "    </tr>\n",
       "  </thead>\n",
       "  <tbody>\n",
       "    <tr>\n",
       "      <th>0</th>\n",
       "      <td>1</td>\n",
       "    </tr>\n",
       "    <tr>\n",
       "      <th>1</th>\n",
       "      <td>2</td>\n",
       "    </tr>\n",
       "    <tr>\n",
       "      <th>2</th>\n",
       "      <td>3</td>\n",
       "    </tr>\n",
       "    <tr>\n",
       "      <th>3</th>\n",
       "      <td>4</td>\n",
       "    </tr>\n",
       "    <tr>\n",
       "      <th>4</th>\n",
       "      <td>5</td>\n",
       "    </tr>\n",
       "    <tr>\n",
       "      <th>5</th>\n",
       "      <td>6</td>\n",
       "    </tr>\n",
       "    <tr>\n",
       "      <th>6</th>\n",
       "      <td>7</td>\n",
       "    </tr>\n",
       "    <tr>\n",
       "      <th>7</th>\n",
       "      <td>8</td>\n",
       "    </tr>\n",
       "    <tr>\n",
       "      <th>8</th>\n",
       "      <td>9</td>\n",
       "    </tr>\n",
       "    <tr>\n",
       "      <th>9</th>\n",
       "      <td>10</td>\n",
       "    </tr>\n",
       "    <tr>\n",
       "      <th>10</th>\n",
       "      <td>11</td>\n",
       "    </tr>\n",
       "    <tr>\n",
       "      <th>11</th>\n",
       "      <td>12</td>\n",
       "    </tr>\n",
       "    <tr>\n",
       "      <th>12</th>\n",
       "      <td>13</td>\n",
       "    </tr>\n",
       "    <tr>\n",
       "      <th>13</th>\n",
       "      <td>14</td>\n",
       "    </tr>\n",
       "    <tr>\n",
       "      <th>14</th>\n",
       "      <td>15</td>\n",
       "    </tr>\n",
       "    <tr>\n",
       "      <th>15</th>\n",
       "      <td>16</td>\n",
       "    </tr>\n",
       "    <tr>\n",
       "      <th>16</th>\n",
       "      <td>1</td>\n",
       "    </tr>\n",
       "    <tr>\n",
       "      <th>17</th>\n",
       "      <td>2</td>\n",
       "    </tr>\n",
       "    <tr>\n",
       "      <th>18</th>\n",
       "      <td>3</td>\n",
       "    </tr>\n",
       "    <tr>\n",
       "      <th>19</th>\n",
       "      <td>4</td>\n",
       "    </tr>\n",
       "    <tr>\n",
       "      <th>20</th>\n",
       "      <td>5</td>\n",
       "    </tr>\n",
       "  </tbody>\n",
       "</table>\n",
       "</div>"
      ],
      "text/plain": [
       "    CutomerID\n",
       "0           1\n",
       "1           2\n",
       "2           3\n",
       "3           4\n",
       "4           5\n",
       "5           6\n",
       "6           7\n",
       "7           8\n",
       "8           9\n",
       "9          10\n",
       "10         11\n",
       "11         12\n",
       "12         13\n",
       "13         14\n",
       "14         15\n",
       "15         16\n",
       "16          1\n",
       "17          2\n",
       "18          3\n",
       "19          4\n",
       "20          5"
      ]
     },
     "execution_count": 150,
     "metadata": {},
     "output_type": "execute_result"
    }
   ],
   "source": [
    "result"
   ]
  },
  {
   "cell_type": "markdown",
   "metadata": {},
   "source": [
    "# What is a Stored Procedure?\n",
    "- A stored procedure is a prepared SQL code that you can save, so the code can be reused over and over again.\n",
    "\n",
    "- So if you have an SQL query that you write over and over again, save it as a stored procedure, and then just call it to execute it."
   ]
  },
  {
   "cell_type": "raw",
   "metadata": {},
   "source": [
    "CREATE PROCEDURE SelectAllCustomers\n",
    "AS\n",
    "SELECT * FROM Customers\n",
    "GO;"
   ]
  },
  {
   "cell_type": "code",
   "execution_count": 174,
   "metadata": {},
   "outputs": [
    {
     "name": "stdout",
     "output_type": "stream",
     "text": [
      "True\n",
      "1064 (42000): You have an error in your SQL syntax; check the manual that corresponds to your MySQL server version for the right syntax to use near '' at line 1\n"
     ]
    }
   ],
   "source": [
    "try:\n",
    "    mydb = connection.connect(host=\"localhost\", database = 'customer',user=\"root\", passwd=\"9105kdkd\",use_pure=True)\n",
    "    # check if the connection is established\n",
    "    print(mydb.is_connected())\n",
    "\n",
    "    query = \"CREATE PROCEDURE SelectAllCustomers  AS  SELECT * FROM  customerdetails \"\n",
    "    \n",
    "    \n",
    "  \n",
    "\n",
    "    cursor = mydb.cursor()\n",
    "    cursor.execute(query)\n",
    "    \n",
    "    \n",
    "    mydb.close()\n",
    "except Exception as e:\n",
    "    mydb.close()\n",
    "    print(str(e))"
   ]
  },
  {
   "cell_type": "markdown",
   "metadata": {},
   "source": [
    "# SQL JOIN"
   ]
  },
  {
   "cell_type": "code",
   "execution_count": null,
   "metadata": {},
   "outputs": [],
   "source": [
    "try:\n",
    "    mydb = connection.connect(host=\"localhost\", database = 'customer',user=\"root\", passwd=\"9105kdkd\",use_pure=True)\n",
    "    # check if the connection is established\n",
    "    print(mydb.is_connected())\n",
    "\n",
    "    query = \"select customerdetails.FirstName,c \"\n",
    "    \n",
    "    \n",
    "  \n",
    "\n",
    "    cursor = mydb.cursor()\n",
    "    cursor.execute(query)\n",
    "    \n",
    "    \n",
    "    mydb.close()\n",
    "except Exception as e:\n",
    "    mydb.close()\n",
    "    print(str(e))"
   ]
  }
 ],
 "metadata": {
  "kernelspec": {
   "display_name": "Python 3",
   "language": "python",
   "name": "python3"
  },
  "language_info": {
   "codemirror_mode": {
    "name": "ipython",
    "version": 3
   },
   "file_extension": ".py",
   "mimetype": "text/x-python",
   "name": "python",
   "nbconvert_exporter": "python",
   "pygments_lexer": "ipython3",
   "version": "3.7.6"
  }
 },
 "nbformat": 4,
 "nbformat_minor": 4
}
