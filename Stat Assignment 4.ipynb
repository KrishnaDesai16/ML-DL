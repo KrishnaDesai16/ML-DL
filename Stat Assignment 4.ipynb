{
 "cells": [
  {
   "cell_type": "code",
   "execution_count": 1,
   "metadata": {},
   "outputs": [],
   "source": [
    "import numpy as np\n",
    "import pandas as pd\n",
    "import scipy.stats as st"
   ]
  },
  {
   "cell_type": "raw",
   "metadata": {},
   "source": [
    "Problem Statement 1:\n",
    "Is gender independent of education level? A random sample of 395 people were\n",
    "surveyed and each person was asked to report the highest education level they\n",
    "obtained. The data that resulted from the survey is summarized in the following table:\n",
    "High School Bachelors Masters Ph.d. Total\n",
    "Female 60 54 46 41 201\n",
    "Male 40 44 53 57 194\n",
    "Total 100 98 99 98 395\n",
    "Question: Are gender and education level dependent at 5% level of significance? In\n",
    "other words, given the data collected above, is there a relationship between the\n",
    "gender of an individual and the level of education that they have obtained?"
   ]
  },
  {
   "cell_type": "code",
   "execution_count": 4,
   "metadata": {},
   "outputs": [
    {
     "name": "stdout",
     "output_type": "stream",
     "text": [
      "rejected(Gender and education level are dependent.)\n"
     ]
    }
   ],
   "source": [
    "alpha=0.05\n",
    "chi2,p,dof,expected=st.chi2_contingency([[60,54,46,41],[40,44,53,57]])\n",
    "df=pd.DataFrame(np.array([[60,54,46,41],expected[0],[40,44,53,57],expected[1]]),columns=['High School','Bachelors','Masters','Ph.d'],index=['Female','Exp_Female','Male','Exp_male'])\n",
    "if p<alpha:\n",
    "    print(\"rejected(Gender and education level are dependent.)\")\n",
    "else:\n",
    "    print('accepted(Gender and education level are independent.)')"
   ]
  },
  {
   "cell_type": "raw",
   "metadata": {},
   "source": [
    "roblem Statement 2: Using the following data, perform a oneway analysis of variance using α=.05. Write up the results in APA format. [Group1: 51, 45, 33, 45, 67] [Group2: 23, 43, 23, 43, 45] [Group3: 56, 76, 74, 87, 56]Null Hypothesis H0 : mean1=mean2=mean3 Alternative Hypothesis H1 : mean1!=mean2!=mean3"
   ]
  },
  {
   "cell_type": "code",
   "execution_count": 22,
   "metadata": {},
   "outputs": [],
   "source": [
    "alpha=0.05\n",
    "#ssw-sum of square within group\n",
    "#ssb-sum of square between group\n",
    "\n",
    "#Performing ANOVA without the pre-built function\n",
    "\n",
    "Group1=[51, 45, 33, 45, 67] \n",
    "Group2=[ 23, 43, 23, 43, 45]\n",
    "Group3=[ 56, 76, 74, 87, 56]"
   ]
  },
  {
   "cell_type": "code",
   "execution_count": 23,
   "metadata": {},
   "outputs": [
    {
     "name": "stdout",
     "output_type": "stream",
     "text": [
      "F-value is : 31.996560619088555\n",
      "p-value is : 1.550392937244016e-05\n",
      "Null Hypothesis is rejected(mean1!=mean2!=mean3)\n"
     ]
    }
   ],
   "source": [
    "mean1=np.mean(Group1)\n",
    "mean2=np.mean(Group2)\n",
    "mean3=np.mean(Group3)\n",
    "\n",
    "grand_mean=mean1+mean2+mean3/3\n",
    "\n",
    "group1_dev=[(i-mean1)**2 for i in Group1]\n",
    "group2_dev=[(i-mean2)**2 for i in Group2]\n",
    "group3_dev=[(i-mean3)**2 for i in Group3]\n",
    "\n",
    "ssw=np.sum([group1_dev,group2_dev,group3_dev])\n",
    "ssw_mean=ssw/12  #m*(n-1) DOF\n",
    "\n",
    "ssb=np.sum((mean1-grand_mean)**2+(mean2-grand_mean)**2+(mean3-grand_mean)**2)\n",
    "ssb_mean=ssb/2   #DOF:m-1\n",
    "\n",
    "\n",
    "f_stat=ssb_mean/ssw_mean\n",
    "p=1-st.f.cdf(f_stat,2,12)\n",
    "\n",
    "print(\"F-value is :\",f_stat)\n",
    "print(\"p-value is :\",p)\n",
    "if p<alpha:\n",
    "    print(\"Null Hypothesis is rejected(mean1!=mean2!=mean3)\")\n",
    "else:\n",
    "    print(\"Null Hypothesis is accepted(mean1=mean2=mean3)\")\n"
   ]
  },
  {
   "cell_type": "code",
   "execution_count": 21,
   "metadata": {},
   "outputs": [
    {
     "name": "stdout",
     "output_type": "stream",
     "text": [
      "F-value is : 9.747205503009463\n",
      "p-value is : 0.0030597541434430556\n",
      "Null Hypothesis is rejected(mean1!=mean2!=mean3)\n"
     ]
    }
   ],
   "source": [
    "\n",
    "#Performing ANOVA using scipy.stats.f_oneway function\n",
    "f,p=st.f_oneway(Group1,Group2,Group3)\n",
    "print(\"F-value is :\",f)\n",
    "print(\"p-value is :\",p)\n",
    "if p<alpha:\n",
    "    print(\"Null Hypothesis is rejected(mean1!=mean2!=mean3)\")\n",
    "else:\n",
    "    print(\"Null Hypothesis is accepted(mean1=mean2=mean3)\")"
   ]
  },
  {
   "cell_type": "raw",
   "metadata": {},
   "source": [
    "Calculate F Test for given 10, 20, 30, 40, 50 and 5,10,15, 20, 25.\n",
    "For 10, 20, 30, 40, 50:"
   ]
  },
  {
   "cell_type": "code",
   "execution_count": 24,
   "metadata": {},
   "outputs": [
    {
     "name": "stdout",
     "output_type": "stream",
     "text": [
      "F-value is : 3.6\n",
      "p-value is : 0.0943497728424377\n"
     ]
    }
   ],
   "source": [
    "group1=[10, 20, 30, 40, 50]\n",
    "group2=[5,10,15, 20, 25]\n",
    "f,p=st.f_oneway(group1,group2)\n",
    "print(\"F-value is :\",f)\n",
    "print(\"p-value is :\",p)"
   ]
  },
  {
   "cell_type": "code",
   "execution_count": null,
   "metadata": {},
   "outputs": [],
   "source": []
  }
 ],
 "metadata": {
  "kernelspec": {
   "display_name": "Python 3",
   "language": "python",
   "name": "python3"
  },
  "language_info": {
   "codemirror_mode": {
    "name": "ipython",
    "version": 3
   },
   "file_extension": ".py",
   "mimetype": "text/x-python",
   "name": "python",
   "nbconvert_exporter": "python",
   "pygments_lexer": "ipython3",
   "version": "3.8.5"
  }
 },
 "nbformat": 4,
 "nbformat_minor": 4
}
