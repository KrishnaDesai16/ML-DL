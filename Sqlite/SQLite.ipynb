{
 "cells": [
  {
   "cell_type": "markdown",
   "metadata": {},
   "source": [
    "# SQLite"
   ]
  },
  {
   "cell_type": "markdown",
   "metadata": {},
   "source": [
    "\n",
    "- **SQLite and Python types**\n",
    "- **Connection Establishment with Database**\n",
    "- **Table Creation and Data Insertion**\n",
    "- **Some Data Filtering Operation**\n",
    "- **Table Drop**"
   ]
  },
  {
   "cell_type": "markdown",
   "metadata": {},
   "source": [
    "# SQLite and Python types"
   ]
  },
  {
   "cell_type": "raw",
   "metadata": {},
   "source": [
    "None      NULL\n",
    "int       INTEGER\n",
    "float     REAL\n",
    "str       TEXT\n",
    "bytes     BLOB"
   ]
  },
  {
   "cell_type": "markdown",
   "metadata": {},
   "source": [
    "### Connection Establishment with Database"
   ]
  },
  {
   "cell_type": "code",
   "execution_count": 83,
   "metadata": {},
   "outputs": [],
   "source": [
    "import sqlite3\n",
    "db=sqlite3.connect('company_database1.db')"
   ]
  },
  {
   "cell_type": "code",
   "execution_count": 84,
   "metadata": {},
   "outputs": [],
   "source": [
    "c=db.cursor()"
   ]
  },
  {
   "cell_type": "code",
   "execution_count": 85,
   "metadata": {},
   "outputs": [
    {
     "data": {
      "text/plain": [
       "<sqlite3.Cursor at 0x1c61762df80>"
      ]
     },
     "execution_count": 85,
     "metadata": {},
     "output_type": "execute_result"
    }
   ],
   "source": [
    "c.execute('CREATE TABLE company2(ID int UNIQUE , Name text, Age int, Address text, Salary real)')"
   ]
  },
  {
   "cell_type": "code",
   "execution_count": 86,
   "metadata": {},
   "outputs": [
    {
     "data": {
      "text/plain": [
       "<sqlite3.Cursor at 0x1c61762df80>"
      ]
     },
     "execution_count": 86,
     "metadata": {},
     "output_type": "execute_result"
    }
   ],
   "source": [
    "c.execute('INSERT INTO company2 VALUES(1,\"rohit\",12,\"Banglore\",100000.00)')\n",
    "c.execute('INSERT INTO company2 VALUES(2,\"kavisha\",20,\"Ahmedabad\",110000.00)')\n",
    "c.execute('INSERT INTO company2 VALUES(3,\"riya\",28,\"Rajkot\",111000.00)')"
   ]
  },
  {
   "cell_type": "code",
   "execution_count": 87,
   "metadata": {},
   "outputs": [],
   "source": [
    "db.commit()"
   ]
  },
  {
   "cell_type": "code",
   "execution_count": 88,
   "metadata": {},
   "outputs": [
    {
     "name": "stdout",
     "output_type": "stream",
     "text": [
      "(1, 'rohit', 12, 'Banglore', 100000.0)\n",
      "(2, 'kavisha', 20, 'Ahmedabad', 110000.0)\n",
      "(3, 'riya', 28, 'Rajkot', 111000.0)\n"
     ]
    }
   ],
   "source": [
    "data=c.execute('SELECT * FROM company2')\n",
    "for i in data:\n",
    "    print(i)\n"
   ]
  },
  {
   "cell_type": "code",
   "execution_count": 89,
   "metadata": {},
   "outputs": [
    {
     "data": {
      "text/plain": [
       "<sqlite3.Cursor at 0x1c61762df80>"
      ]
     },
     "execution_count": 89,
     "metadata": {},
     "output_type": "execute_result"
    }
   ],
   "source": [
    "# Insert a row of data\n",
    "c.execute(\"INSERT INTO company2(ID, Name, Age, Address, Salary) VALUES (4, 'Venkat', 42, 'Chennai', 400000.00)\")\n",
    "\n",
    "c.execute(\"INSERT INTO company2(ID, Name, Age, Address, Salary) VALUES (5, 'Raju', 31, 'Madurai', 400000.00)\")\n",
    "\n",
    "c.execute(\"INSERT INTO company2(ID, Name, Age, Address, Salary) VALUES (6, 'Ankit', 25, 'Bangalore', 800000.00)\")\n",
    "\n",
    "c.execute(\"INSERT INTO company2(ID, Name, Age, Address, Salary) VALUES (7, 'Ravi', 25, 'Bangalore', 800000.00)\")\n",
    "\n",
    "c.execute(\"INSERT INTO company2(ID, Name, Age, Address, Salary) VALUES (8, 'Shivam', 25, 'Bangalore', 800000.00)\")"
   ]
  },
  {
   "cell_type": "code",
   "execution_count": 90,
   "metadata": {},
   "outputs": [],
   "source": [
    "db.commit()\n"
   ]
  },
  {
   "cell_type": "code",
   "execution_count": 91,
   "metadata": {},
   "outputs": [],
   "source": [
    "db.close()"
   ]
  },
  {
   "cell_type": "markdown",
   "metadata": {},
   "source": [
    "# Some Data Filtering Operation"
   ]
  },
  {
   "cell_type": "code",
   "execution_count": 92,
   "metadata": {},
   "outputs": [],
   "source": [
    "db=sqlite3.connect('company_database1.db')\n",
    "c=db.cursor()"
   ]
  },
  {
   "cell_type": "code",
   "execution_count": 94,
   "metadata": {},
   "outputs": [
    {
     "name": "stdout",
     "output_type": "stream",
     "text": [
      "('Ankit',)\n",
      "('Ravi',)\n",
      "('Shivam',)\n"
     ]
    }
   ],
   "source": [
    "d=c.execute(\"SELECT Name from company2  WHERE Address ='Bangalore'\" )\n",
    "for i in d:\n",
    "    print(i)"
   ]
  },
  {
   "cell_type": "code",
   "execution_count": null,
   "metadata": {},
   "outputs": [],
   "source": []
  },
  {
   "cell_type": "code",
   "execution_count": 96,
   "metadata": {},
   "outputs": [
    {
     "name": "stdout",
     "output_type": "stream",
     "text": [
      "(2, 'kavisha', 20, 'Ahmedabad', 110000.0)\n",
      "(3, 'riya', 28, 'Rajkot', 111000.0)\n",
      "(4, 'Venkat', 42, 'Chennai', 400000.0)\n",
      "(5, 'Raju', 31, 'Madurai', 400000.0)\n",
      "(6, 'Ankit', 25, 'Bangalore', 800000.0)\n",
      "(7, 'Ravi', 25, 'Bangalore', 800000.0)\n",
      "(8, 'Shivam', 25, 'Bangalore', 800000.0)\n"
     ]
    }
   ],
   "source": [
    "data=c.execute(\"select * from company2 where Salary >100000\")\n",
    "for x in data:\n",
    "    print(x)"
   ]
  },
  {
   "cell_type": "code",
   "execution_count": 99,
   "metadata": {},
   "outputs": [
    {
     "name": "stdout",
     "output_type": "stream",
     "text": [
      "(1, 'rohit')\n",
      "(2, 'kavisha')\n",
      "(6, 'Ankit')\n",
      "(7, 'Ravi')\n",
      "(8, 'Shivam')\n",
      "(3, 'riya')\n",
      "(5, 'Raju')\n",
      "(4, 'Venkat')\n"
     ]
    }
   ],
   "source": [
    "data=c.execute('select ID ,Name from company2 order by Age ASC')\n",
    "for x in data:\n",
    "    print(x)"
   ]
  },
  {
   "cell_type": "code",
   "execution_count": 100,
   "metadata": {},
   "outputs": [
    {
     "name": "stdout",
     "output_type": "stream",
     "text": [
      "(4, 'Venkat', 42)\n",
      "(5, 'Raju', 31)\n",
      "(3, 'riya', 28)\n",
      "(6, 'Ankit', 25)\n",
      "(7, 'Ravi', 25)\n",
      "(8, 'Shivam', 25)\n",
      "(2, 'kavisha', 20)\n",
      "(1, 'rohit', 12)\n"
     ]
    }
   ],
   "source": [
    "data=c.execute(\"select ID, Name, Age from company2 order by Age desc\")\n",
    "for x in data:\n",
    "    print(x)"
   ]
  },
  {
   "cell_type": "markdown",
   "metadata": {},
   "source": [
    "# Table Drop "
   ]
  },
  {
   "cell_type": "code",
   "execution_count": 101,
   "metadata": {},
   "outputs": [
    {
     "data": {
      "text/plain": [
       "<sqlite3.Cursor at 0x1c61762ddc0>"
      ]
     },
     "execution_count": 101,
     "metadata": {},
     "output_type": "execute_result"
    }
   ],
   "source": [
    "# importing sqlite\n",
    "import sqlite3\n",
    "\n",
    "#connecting with the database.\n",
    "db = sqlite3.connect(\"food_database.db\")\n",
    "c = db.cursor()\n",
    "\n",
    "# Create table to store food name and their colories\n",
    "c.execute('CREATE TABLE food(Name text, Calories int)') \n",
    "\n",
    "# Insert a row of data\n",
    "c.execute(\"INSERT INTO food VALUES ('Mango', 60)\")\n",
    "c.execute(\"INSERT INTO food VALUES ('Samosa',262)\")\n"
   ]
  },
  {
   "cell_type": "code",
   "execution_count": 102,
   "metadata": {},
   "outputs": [
    {
     "name": "stdout",
     "output_type": "stream",
     "text": [
      "('Mango', 60)\n",
      "('Samosa', 262)\n"
     ]
    }
   ],
   "source": [
    "data=c.execute(\"SELECT * FROM food\")\n",
    "for i in data:\n",
    "    print(i)"
   ]
  },
  {
   "cell_type": "code",
   "execution_count": 103,
   "metadata": {},
   "outputs": [
    {
     "data": {
      "text/plain": [
       "<sqlite3.Cursor at 0x1c61762ddc0>"
      ]
     },
     "execution_count": 103,
     "metadata": {},
     "output_type": "execute_result"
    }
   ],
   "source": [
    "## Its recommended to use this DROP command\n",
    "c.execute(\"DROP table IF EXISTS food\")"
   ]
  },
  {
   "cell_type": "code",
   "execution_count": 104,
   "metadata": {},
   "outputs": [
    {
     "ename": "OperationalError",
     "evalue": "no such table: food",
     "output_type": "error",
     "traceback": [
      "\u001b[1;31m---------------------------------------------------------------------------\u001b[0m",
      "\u001b[1;31mOperationalError\u001b[0m                          Traceback (most recent call last)",
      "\u001b[1;32m<ipython-input-104-2eb9e4f617ea>\u001b[0m in \u001b[0;36m<module>\u001b[1;34m\u001b[0m\n\u001b[0;32m      1\u001b[0m \u001b[1;31m## Checking its deleted or not\u001b[0m\u001b[1;33m\u001b[0m\u001b[1;33m\u001b[0m\u001b[1;33m\u001b[0m\u001b[0m\n\u001b[1;32m----> 2\u001b[1;33m \u001b[0mc\u001b[0m\u001b[1;33m.\u001b[0m\u001b[0mexecute\u001b[0m\u001b[1;33m(\u001b[0m\u001b[1;34m\"DROP table food\"\u001b[0m\u001b[1;33m)\u001b[0m\u001b[1;33m\u001b[0m\u001b[1;33m\u001b[0m\u001b[0m\n\u001b[0m",
      "\u001b[1;31mOperationalError\u001b[0m: no such table: food"
     ]
    }
   ],
   "source": [
    "## Checking its deleted or not\n",
    "c.execute(\"DROP table food\") "
   ]
  },
  {
   "cell_type": "code",
   "execution_count": null,
   "metadata": {},
   "outputs": [],
   "source": [
    "c.ex"
   ]
  }
 ],
 "metadata": {
  "kernelspec": {
   "display_name": "Python 3",
   "language": "python",
   "name": "python3"
  },
  "language_info": {
   "codemirror_mode": {
    "name": "ipython",
    "version": 3
   },
   "file_extension": ".py",
   "mimetype": "text/x-python",
   "name": "python",
   "nbconvert_exporter": "python",
   "pygments_lexer": "ipython3",
   "version": "3.7.6"
  }
 },
 "nbformat": 4,
 "nbformat_minor": 4
}
